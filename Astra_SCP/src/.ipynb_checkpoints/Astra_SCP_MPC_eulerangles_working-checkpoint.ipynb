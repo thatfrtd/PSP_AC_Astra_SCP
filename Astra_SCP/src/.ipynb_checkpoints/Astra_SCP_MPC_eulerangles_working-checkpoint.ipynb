{
 "cells": [
  {
   "cell_type": "raw",
   "id": "8337a39e-f6ad-4d23-9e10-f3adc1c07991",
   "metadata": {},
   "source": [
    "---\n",
    "title: PSP AC Astra Modeling Euler Angles \n",
    "author: Travis Hastreiter\n",
    "date: 6/21/2024\n",
    "format: \n",
    "  html:\n",
    "    code-fold: true\n",
    "    toc: true\n",
    "    toc-depth: 3\n",
    "    number-sections: true\n",
    "execute:\n",
    "  enabled: false\n",
    "---"
   ]
  },
  {
   "cell_type": "markdown",
   "id": "66dca1b8-9a95-4bd7-956d-ef2a0bafabbf",
   "metadata": {},
   "source": [
    "# PSP AC Astra Modeling\n",
    "\n",
    "### Model Derivation, SCP Problem Definition for MPC, and Solving with SCPToolbox"
   ]
  },
  {
   "cell_type": "code",
   "execution_count": 4,
   "id": "2229244e-f950-4b98-b971-3f962752f2b1",
   "metadata": {},
   "outputs": [
    {
     "name": "stderr",
     "output_type": "stream",
     "text": [
      "\u001b[32m\u001b[1m  Activating\u001b[22m\u001b[39m new project at `C:\\Users\\thatf\\Documents\\PSP AC`\n"
     ]
    },
    {
     "ename": "LoadError",
     "evalue": "ArgumentError: Package Plots not found in current path, maybe you meant `import/using .Plots`.\n- Otherwise, run `import Pkg; Pkg.add(\"Plots\")` to install the Plots package.",
     "output_type": "error",
     "traceback": [
      "ArgumentError: Package Plots not found in current path, maybe you meant `import/using .Plots`.\n- Otherwise, run `import Pkg; Pkg.add(\"Plots\")` to install the Plots package.",
      "",
      "Stacktrace:",
      " [1] macro expansion",
      "   @ .\\loading.jl:1772 [inlined]",
      " [2] macro expansion",
      "   @ .\\lock.jl:267 [inlined]",
      " [3] __require(into::Module, mod::Symbol)",
      "   @ Base .\\loading.jl:1753",
      " [4] #invoke_in_world#3",
      "   @ .\\essentials.jl:926 [inlined]",
      " [5] invoke_in_world",
      "   @ .\\essentials.jl:923 [inlined]",
      " [6] require(into::Module, mod::Symbol)",
      "   @ Base .\\loading.jl:1746"
     ]
    }
   ],
   "source": [
    "import Pkg\n",
    "Pkg.activate(\"\")\n",
    "\n",
    "using SCPToolbox\n",
    "using PyCall, PyPlot, Colors, LinearAlgebra, Latexify, Symbolics\n",
    "using Plots, Measures\n",
    "\n",
    "# Import the different possible low-level convex solvers\n",
    "using ECOS\n",
    "# using Ipopt\n",
    "# using SCS\n",
    "# using OSQP"
   ]
  },
  {
   "cell_type": "markdown",
   "id": "0e98ed14-3ede-43df-a9f8-44e9907b6f12",
   "metadata": {},
   "source": [
    "## Model Derivation"
   ]
  },
  {
   "cell_type": "markdown",
   "id": "531ec5f7-c0f7-4283-b4f2-1d6c50b94d6a",
   "metadata": {},
   "source": [
    "### Problem Description\n",
    "\n",
    "#### General Description\n",
    "\n",
    "#### Assumptions"
   ]
  },
  {
   "cell_type": "markdown",
   "id": "f1027171-50c8-4379-91fb-5d8a369ee8f0",
   "metadata": {},
   "source": [
    "#### States"
   ]
  },
  {
   "cell_type": "markdown",
   "id": "93abf643-4c37-433d-8bec-51e2c10f4a88",
   "metadata": {},
   "source": [
    "The Euler angle definition chosen is 121 sequence because there won't be a singularity when pointing straight up and it will be simple to express rotations about the x direction in the body frame. "
   ]
  },
  {
   "cell_type": "code",
   "execution_count": 2,
   "id": "81af8957-1abc-434c-ac54-c68d46362912",
   "metadata": {
    "tags": []
   },
   "outputs": [
    {
     "data": {
      "text/latex": [
       "The state vector is $$x = \\begin{equation}\n",
       "\\left[\n",
       "\\begin{array}{c}\n",
       "r_1 \\\\\n",
       "r_2 \\\\\n",
       "r_3 \\\\\n",
       "v_1 \\\\\n",
       "v_2 \\\\\n",
       "v_3 \\\\\n",
       "\\theta_1 \\\\\n",
       "\\theta_2 \\\\\n",
       "\\theta_3 \\\\\n",
       "\\omega_1 \\\\\n",
       "\\omega_2 \\\\\n",
       "\\omega_3 \\\\\n",
       "\\end{array}\n",
       "\\right]\n",
       "\\end{equation}\n",
       "$$"
      ],
      "text/plain": [
       "L\"The state vector is $$x = \\begin{equation}\n",
       "\\left[\n",
       "\\begin{array}{c}\n",
       "r_1 \\\\\n",
       "r_2 \\\\\n",
       "r_3 \\\\\n",
       "v_1 \\\\\n",
       "v_2 \\\\\n",
       "v_3 \\\\\n",
       "\\theta_1 \\\\\n",
       "\\theta_2 \\\\\n",
       "\\theta_3 \\\\\n",
       "\\omega_1 \\\\\n",
       "\\omega_2 \\\\\n",
       "\\omega_3 \\\\\n",
       "\\end{array}\n",
       "\\right]\n",
       "\\end{equation}\n",
       "$$\""
      ]
     },
     "execution_count": 3,
     "metadata": {},
     "output_type": "execute_result"
    }
   ],
   "source": [
    "r = Symbolics.variables(:r, 1:3)\n",
    "v = Symbolics.variables(:v, 1:3)\n",
    "θ = Symbolics.variables(:θ, 1:3)\n",
    "ω = Symbolics.variables(:ω, 1:3)\n",
    "\n",
    "x = [r; v; θ; ω]\n",
    "\n",
    "x_latex = latexify(x);\n",
    "L\"The state vector is $$x = %$x_latex$$\""
   ]
  },
  {
   "cell_type": "markdown",
   "id": "3bb2b8a6-707f-49d5-a183-8717351e8a1d",
   "metadata": {
    "user_expressions": [
     {
      "expression": "latexify(x)",
      "result": {
       "data": {
        "text/latex": "\\begin{equation}\n\\left[\n\\begin{array}{c}\nr_1 \\\\\nr_2 \\\\\nr_3 \\\\\nv_1 \\\\\nv_2 \\\\\nv_3 \\\\\n\\theta_1 \\\\\n\\theta_2 \\\\\n\\theta_3 \\\\\n\\omega_1 \\\\\n\\omega_2 \\\\\n\\omega_3 \\\\\n\\end{array}\n\\right]\n\\end{equation}\n",
        "text/plain": "L\"\\begin{equation}\n\\left[\n\\begin{array}{c}\nr_1 \\\\\nr_2 \\\\\nr_3 \\\\\nv_1 \\\\\nv_2 \\\\\nv_3 \\\\\n\\theta_1 \\\\\n\\theta_2 \\\\\n\\theta_3 \\\\\n\\omega_1 \\\\\n\\omega_2 \\\\\n\\omega_3 \\\\\n\\end{array}\n\\right]\n\\end{equation}\n\""
       },
       "metadata": {},
       "status": "ok"
      }
     }
    ]
   },
   "source": [
    "The state vector is\n",
    "$$\n",
    "x = `{julia} latexify(x)`\n",
    "$$"
   ]
  },
  {
   "cell_type": "markdown",
   "id": "8c77f7a5-9cb1-4bc3-a055-dc45d3e21b87",
   "metadata": {},
   "source": [
    "#### Controls"
   ]
  },
  {
   "cell_type": "code",
   "execution_count": 3,
   "id": "193cf487-50ed-44c6-9a5d-bb3ffccb3a9e",
   "metadata": {
    "tags": []
   },
   "outputs": [
    {
     "data": {
      "text/latex": [
       "The control vector is $$u = \\begin{equation}\n",
       "\\left[\n",
       "\\begin{array}{c}\n",
       "T_1 \\\\\n",
       "T_2 \\\\\n",
       "T_3 \\\\\n",
       "\\sigma \\\\\n",
       "\\gamma \\\\\n",
       "\\end{array}\n",
       "\\right]\n",
       "\\end{equation}\n",
       "$$"
      ],
      "text/plain": [
       "L\"The control vector is $$u = \\begin{equation}\n",
       "\\left[\n",
       "\\begin{array}{c}\n",
       "T_1 \\\\\n",
       "T_2 \\\\\n",
       "T_3 \\\\\n",
       "\\sigma \\\\\n",
       "\\gamma \\\\\n",
       "\\end{array}\n",
       "\\right]\n",
       "\\end{equation}\n",
       "$$\""
      ]
     },
     "execution_count": 5,
     "metadata": {},
     "output_type": "execute_result"
    }
   ],
   "source": [
    "@variables σ, γ\n",
    "T = Symbolics.variables(:T, 1:3)\n",
    "\n",
    "u = [T; σ; γ]\n",
    "\n",
    "u_latex = latexify(u)\n",
    "L\"The control vector is $$u = %$u_latex$$\""
   ]
  },
  {
   "cell_type": "markdown",
   "id": "ba6f7049-f45a-4b87-ac5c-9fab04bfcbf7",
   "metadata": {
    "user_expressions": [
     {
      "expression": "latexify(u)",
      "result": {
       "data": {
        "text/latex": "\\begin{equation}\n\\left[\n\\begin{array}{c}\nT_1 \\\\\nT_2 \\\\\nT_3 \\\\\n\\sigma \\\\\n\\gamma \\\\\n\\end{array}\n\\right]\n\\end{equation}\n",
        "text/plain": "L\"\\begin{equation}\n\\left[\n\\begin{array}{c}\nT_1 \\\\\nT_2 \\\\\nT_3 \\\\\n\\sigma \\\\\n\\gamma \\\\\n\\end{array}\n\\right]\n\\end{equation}\n\""
       },
       "metadata": {},
       "status": "ok"
      }
     }
    ]
   },
   "source": [
    "The control vector is\n",
    "$$\n",
    "u = `{julia} latexify(u)`\n",
    "$$"
   ]
  },
  {
   "cell_type": "markdown",
   "id": "7833b783-72d2-4fd9-a8d6-feb9ea6ce910",
   "metadata": {},
   "source": [
    "#### Parameters"
   ]
  },
  {
   "cell_type": "code",
   "execution_count": 4,
   "id": "2fd39a36-1fb3-4d5c-838d-d48c4e72ab0d",
   "metadata": {
    "tags": []
   },
   "outputs": [
    {
     "data": {
      "text/latex": [
       "The parameter vector is $$p = \\begin{equation}\n",
       "\\left[\n",
       "\\begin{array}{c}\n",
       "t_{f} \\\\\n",
       "\\end{array}\n",
       "\\right]\n",
       "\\end{equation}\n",
       "$$"
      ],
      "text/plain": [
       "L\"The parameter vector is $$p = \\begin{equation}\n",
       "\\left[\n",
       "\\begin{array}{c}\n",
       "t_{f} \\\\\n",
       "\\end{array}\n",
       "\\right]\n",
       "\\end{equation}\n",
       "$$\""
      ]
     },
     "execution_count": 7,
     "metadata": {},
     "output_type": "execute_result"
    }
   ],
   "source": [
    "@variables t_f\n",
    "\n",
    "p = [t_f]\n",
    "\n",
    "p_latex = latexify(p)\n",
    "L\"The parameter vector is $$p = %$p_latex$$\""
   ]
  },
  {
   "cell_type": "markdown",
   "id": "f4d61d44-8ca3-4cb2-9530-95b8b89da047",
   "metadata": {
    "user_expressions": [
     {
      "expression": "latexify(p)",
      "result": {
       "data": {
        "text/latex": "\\begin{equation}\n\\left[\n\\begin{array}{c}\nt_{f} \\\\\n\\end{array}\n\\right]\n\\end{equation}\n",
        "text/plain": "L\"\\begin{equation}\n\\left[\n\\begin{array}{c}\nt_{f} \\\\\n\\end{array}\n\\right]\n\\end{equation}\n\""
       },
       "metadata": {},
       "status": "ok"
      }
     }
    ]
   },
   "source": [
    "The parameter vector is\n",
    "$$\n",
    "p = `{julia} latexify(p)`\n",
    "$$"
   ]
  },
  {
   "cell_type": "markdown",
   "id": "a40d7956-8db1-46c1-8e46-700762d184d7",
   "metadata": {},
   "source": [
    "#### Constraints"
   ]
  },
  {
   "cell_type": "markdown",
   "id": "b1e99db8-52c8-4bde-9e0e-6a55165cb1d3",
   "metadata": {},
   "source": [
    "There are two types of constraints. Path is the general term for the state and control.\n",
    "\n",
    "1. Convex Path Constraints\n",
    "\n",
    "Constraints which constraint the path to be apart of a closed and bounded convex set.\n",
    "These can be transformed into constraining the path to be inside some convex cone.\n",
    "\n",
    "|    Label        | Notation     |     Name      | Definition |\n",
    "|:---------------:|:----:|:-------------:|:----------:|\n",
    "|`UNCONSTRAINED`|  $\\mathbb{K}_{ \\lesseqgtr}$ | Unconstrained cone  |  $$\\{x\\in\\mathbb{R}^n\\}$$ |\n",
    "|`ZERO`|  $\\mathbb{K}_{=0}$ | Zero cone | $\\{x\\in\\mathbb{R}^n\\mid x=0\\}$   |\n",
    "|`NONPOS`|  $\\mathbb{K}_{\\leq 0}$ | Non-positive orthant  | $\\{x\\in\\mathbb{R}^n\\mid x\\leq 0\\}$|\n",
    "|`L1` | $\\mathbb{K}_{1}$ | $l_1$ norm cone| $\\{(t,x)\\in\\mathbb{R}\\times\\mathbb{R}^n\\mid \\lVert x\\rVert_1\\leq t\\}$ |\n",
    "|`SOC`| $\\mathbb{K}_{2}$ | $l_2$ norm cone| $\\{(t,x)\\in\\mathbb{R}\\times\\mathbb{R}^n\\mid \\lVert x\\rVert_2\\leq t\\}$ |\n",
    "|`LINF`| $\\mathbb{K}_{\\infty}$ |  $l_\\infty$ norm cone |  $\\{(t,x)\\in\\mathbb{R}\\times\\mathbb{R}^n\\mid \\lVert x\\rVert_\\infty\\leq t\\}$ |\n",
    "|`GEOM`|  $\\mathbb{K}_{\\text{GM}}$ | Geometric mean cone | $ \\big\\{ (t,x)\\in\\mathbb{R}\\times\\mathbb{R}^n\\mid \\left(\\prod_{i=1}^n x_i\\right)^{1/n} \\geq t \\big\\}$ |\n",
    "|`EXP`|  $\\mathbb{K}_{\\text{EXP}}$ | Exponential cone | $\\{(x,y,z)\\in \\mathbb{R}\\times \\mathbb{R} \\times \\mathbb{R} \\mid y\\,\\text{exp}(x/y) \\leq z,~y>0\\}$ |\n",
    "\n",
    "2. Nonconvex Path Constraints\n",
    "\n",
    "Constraints which are too complex to be transformed into a set of convex cone constraints.\n",
    "SCP handles these by linearizing them."
   ]
  },
  {
   "cell_type": "markdown",
   "id": "83e7e143-b975-4376-a3df-30419ceb8755",
   "metadata": {
    "jp-MarkdownHeadingCollapsed": true
   },
   "source": [
    "**State**\n",
    "\n",
    "1. Glideslope \n",
    "\\begin{equation*}\n",
    "\\left\\{r\\in\\mathbb{R}^3~|~ ||r|| \\cos(\\gamma_{gs}) \\leq e_3^\\top r\\right\\}\n",
    "\\end{equation*}\n",
    "\\begin{equation*}\n",
    "\\left\\{r\\in\\mathbb{R}^3~|~ ||r|| \\cos(\\gamma_{gs}) \\leq r_3 \\right\\}\n",
    "\\end{equation*}\n",
    "\\begin{equation*}\n",
    "\\left\\{r\\in\\mathbb{R}^3~|~ ||r|| \\leq \\frac{r_3}{\\cos(\\gamma_{gs})} \\in \\mathbb{K}_{2} \\right\\}\n",
    "\\end{equation*}"
   ]
  },
  {
   "cell_type": "code",
   "execution_count": 5,
   "id": "f4b8431c-dc57-46ea-b599-bfaadb9409e9",
   "metadata": {},
   "outputs": [],
   "source": [
    "#@variables γ_gs\n",
    "## Constants for state constraints\n",
    "#csc = [γ_gs]\n",
    "\n",
    "# State Constraint Constant\n",
    "γ_gs_ = deg2rad(45.0); # [rad] Glideslope angle (measured from the horizon)\n",
    "\n",
    "# Define constraints\n",
    "# Glideslope - replace with half space? (if relaxing landing site bc)\n",
    "glideslope(r, clp) = @add_constraint(clp, SOC, r -> [r[3] / cos(γ_gs_); r])\n",
    "\n",
    "state_constraints(t, k, x, p, pbm, clp) = begin\n",
    "        r, v, θ, ω = x[1:3], x[4:6], x[7:9], x[10:12]\n",
    "    \n",
    "        glideslope(r, clp)\n",
    "    end;"
   ]
  },
  {
   "cell_type": "markdown",
   "id": "a2420780-3c43-49a5-a4e7-6c2d7a97c438",
   "metadata": {},
   "source": [
    "**Control**\n",
    "\n",
    "1. Thrust cone\n",
    "\\begin{equation*}\n",
    "\\left\\{T\\in\\mathbb{R}^3~|~ b_1^\\top T \\geq ||T|| \\cos(\\gamma_{T})\\right\\}\n",
    "\\end{equation*}\n",
    "Simplifying,\n",
    "\\begin{equation*}\n",
    "\\left\\{T\\in\\mathbb{R}^3~|~ T_1 \\geq ||T|| \\cos(\\gamma_{T})\\right\\}\n",
    "\\end{equation*}\n",
    "\n",
    "This constraint is not a linear or quadratic convex constraint, but a more general convex constraint. To remedy this, we use the technique of Lossless Convexification to add a slack variable, $\\sigma$, which is equal to $||T||$ at the optimal solution to the optimization problem. This means the thrust cone constraint now becomes\n",
    "\\begin{equation*}\n",
    "\\left\\{T\\in\\mathbb{R}^3,\\sigma\\in\\mathbb{R}~|~  \\sigma \\cos(\\gamma_{T}) - T_1 \\leq 0 \\in \\mathbb{K}_{\\leq 0} \\right\\}\n",
    "\\end{equation*}\n",
    "To make the lossless convexification hold, the following constraint must be added\n",
    "\\begin{equation*}\n",
    "\\left\\{T\\in\\mathbb{R}^3,\\sigma\\in\\mathbb{R}~|~ ||T|| \\leq \\sigma \\in \\mathbb{K}_{2} \\right\\}\n",
    "\\end{equation*}"
   ]
  },
  {
   "cell_type": "markdown",
   "id": "489b018e-f77c-474a-b9a5-ba0aabcb58f5",
   "metadata": {},
   "source": [
    "2. Thrust limit\n",
    "\\begin{equation*}\n",
    "\\left\\{T\\in\\mathbb{R}^3~|~ ||T|| \\leq T_{max} \\right\\}\n",
    "\\end{equation*}\n",
    "Using the slack variable $\\sigma$, the constraint becomes\n",
    "\\begin{equation*}\n",
    "\\left\\{\\sigma\\in\\mathbb{R}~|~ \\sigma - T_{max} \\leq 0 \\in \\mathbb{K}_{\\leq 0} \\right\\}\n",
    "\\end{equation*}"
   ]
  },
  {
   "cell_type": "markdown",
   "id": "32023753-d918-466c-a59c-17794dc3d2bf",
   "metadata": {},
   "source": [
    "3. Vane angle\n",
    "\\begin{equation*}\n",
    "\\left\\{γ\\in\\mathbb{R}~|~ |γ| \\leq γ_{max} \\in \\mathbb{K}_{1} \\right\\}\n",
    "\\end{equation*}"
   ]
  },
  {
   "cell_type": "code",
   "execution_count": 6,
   "id": "a077fa87-542c-4e49-a66c-f493a07588b6",
   "metadata": {},
   "outputs": [],
   "source": [
    "#@variables T_max, γ_max, δ_max\n",
    "## Constants for control constraints\n",
    "#cuc = [T_max, γ_max, δ_max]\n",
    "\n",
    "# Control Constraint Constants\n",
    "T_max_ = 500e3 # [N] Maximum thrust\n",
    "δ_max_ = deg2rad(7.0); # [rad] Maximum gimbal angle\n",
    "γ_max_ = deg2rad(45); # [rad] Maximum vane angle\n",
    "\n",
    "\n",
    "# Define constraints\n",
    "thrust_limit(σ, clp) = @add_constraint(clp, NONPOS, σ -> σ - T_max_)\n",
    "\n",
    "vane_limit(γ, clp) = @add_constraint(clp, L1, γ -> [γ_max_; γ]);\n",
    "\n",
    "# Thrust Cone\n",
    "thrust_cone(T, σ, clp) = @add_constraint(clp, NONPOS, \"Thrust Cone\", (T, σ) -> σ * cos(δ_max_) - T[1])\n",
    "lcvx_thrust_equality(T, σ, clp) = @add_constraint(clp, SOC, \"lcvx_equality_thrust_cone\", (T, σ) -> [σ; T]);\n",
    "\n",
    "control_constraints(t, k, u, p, pbm, clp) = begin\n",
    "        T, σ, γ = u[1:3], u[4], u[5]\n",
    "                \n",
    "        thrust_limit(σ, clp)\n",
    "        vane_limit(γ, clp)\n",
    "        thrust_cone(T, σ, clp)\n",
    "        lcvx_thrust_equality(T, σ, clp)\n",
    "    end;"
   ]
  },
  {
   "cell_type": "markdown",
   "id": "79717087-95a2-4e12-94ec-951918dd3b94",
   "metadata": {},
   "source": [
    "**Parameter**\n",
    "\n",
    "1. Final time range \n",
    "\\begin{equation*}\n",
    "\\left\\{t_f\\in\\mathbb{R}~|~ t_{fmin} \\leq t_f \\leq t_{fmax} \\right\\}\n",
    "\\end{equation*}"
   ]
  },
  {
   "cell_type": "markdown",
   "id": "16330578-c8b1-4ab0-85df-04a556904969",
   "metadata": {},
   "source": [
    "#### Constants\n",
    "Where define actual values?"
   ]
  },
  {
   "cell_type": "code",
   "execution_count": 7,
   "id": "9780934e-2783-4f08-9a2f-1a3d84aafed3",
   "metadata": {
    "tags": []
   },
   "outputs": [],
   "source": [
    "# Environment Parameters\n",
    "@variables g\n",
    "g_ = 9.81; # [m/s^2] Earth gravity\n",
    "\n",
    "\n",
    "# Mechanical Parameters\n",
    "@variables m\n",
    "m_ = 25e3 # [kg] Initial mass\n",
    "\n",
    "@variables L\n",
    "L_ = 0.5 # [m] Thrust lever arm\n",
    "\n",
    "J = Symbolics.variables(:J, 1:3)\n",
    "J_t = 100e3; # [kg*m^2] Moment of inertia\n",
    "J_a = J_t / 10;\n",
    "J_ = [J_a; J_t; J_t];\n",
    "\n",
    "\n",
    "# General Constant Vector\n",
    "c = [g; m; L; J]\n",
    "c_ = [g_; m_; L_; J_];"
   ]
  },
  {
   "cell_type": "markdown",
   "id": "76bc4330-4278-4c44-8010-bb56676c0bed",
   "metadata": {
    "user_expressions": [
     {
      "expression": "latexify(c_)",
      "result": {
       "data": {
        "text/latex": "\\begin{equation}\n\\left[\n\\begin{array}{c}\n9.81 \\\\\n25000.0 \\\\\n0.5 \\\\\n10000.0 \\\\\n100000.0 \\\\\n100000.0 \\\\\n\\end{array}\n\\right]\n\\end{equation}\n",
        "text/plain": "L\"\\begin{equation}\n\\left[\n\\begin{array}{c}\n9.81 \\\\\n25000.0 \\\\\n0.5 \\\\\n10000.0 \\\\\n100000.0 \\\\\n100000.0 \\\\\n\\end{array}\n\\right]\n\\end{equation}\n\""
       },
       "metadata": {},
       "status": "ok"
      }
     }
    ]
   },
   "source": [
    "The constants are\n",
    "$$\n",
    "c = `{julia} latexify(c_)`\n",
    "$$"
   ]
  },
  {
   "cell_type": "markdown",
   "id": "204ffb7a-f2ad-4b65-b260-d8f1673e3a5f",
   "metadata": {},
   "source": [
    "#### Boundary Conditions"
   ]
  },
  {
   "cell_type": "code",
   "execution_count": 8,
   "id": "34111932-25d8-45c8-a4e6-03161672b4c0",
   "metadata": {},
   "outputs": [],
   "source": [
    "# Initial state\n",
    "r0 = Symbolics.variables(:r_0, 1:3)\n",
    "r0_ = [300, -400, 800] # [m]\n",
    "\n",
    "v0 = Symbolics.variables(:v_0, 1:3)\n",
    "v0_ = [0, 0, -10] # [m / s]\n",
    "\n",
    "θ0 = Symbolics.variables(:θ_0, 1:3)\n",
    "θ0_ = deg2rad.([10, 90, 0]) # [rad] 121 Euler sequence\n",
    "\n",
    "ω0 = Symbolics.variables(:ω_0, 1:3)\n",
    "ω0_ = deg2rad.([90, 10, 0]) # [rad / s]\n",
    "\n",
    "x0 = [r0; v0; θ0; ω0]\n",
    "x_0 = [r0_; v0_; θ0_; ω0_];\n",
    "\n",
    "# Terminal state\n",
    "r1 = zeros(3) # Potentially relax this constraint into the objective function - would have to change glideslope to be centered at new final position...\n",
    "v1 = zeros(3)\n",
    "θ1 = [θ[1], pi/2, 0] # Constrain to be upright\n",
    "ω1 = zeros(3)\n",
    "\n",
    "x1 = [r1; v1; θ1; ω1];"
   ]
  },
  {
   "cell_type": "markdown",
   "id": "db57f7fc-63cf-4cbe-8d7a-9f90d4a5dbf6",
   "metadata": {
    "user_expressions": [
     {
      "expression": "latexify(x_0)",
      "result": {
       "data": {
        "text/latex": "\\begin{equation}\n\\left[\n\\begin{array}{c}\n300.0 \\\\\n-400.0 \\\\\n800.0 \\\\\n0.0 \\\\\n0.0 \\\\\n-10.0 \\\\\n0.17453292519943295 \\\\\n1.5707963267948966 \\\\\n0.0 \\\\\n1.5707963267948966 \\\\\n0.17453292519943295 \\\\\n0.0 \\\\\n\\end{array}\n\\right]\n\\end{equation}\n",
        "text/plain": "L\"\\begin{equation}\n\\left[\n\\begin{array}{c}\n300.0 \\\\\n-400.0 \\\\\n800.0 \\\\\n0.0 \\\\\n0.0 \\\\\n-10.0 \\\\\n0.17453292519943295 \\\\\n1.5707963267948966 \\\\\n0.0 \\\\\n1.5707963267948966 \\\\\n0.17453292519943295 \\\\\n0.0 \\\\\n\\end{array}\n\\right]\n\\end{equation}\n\""
       },
       "metadata": {},
       "status": "ok"
      }
     },
     {
      "expression": "latexify(x1)",
      "result": {
       "data": {
        "text/latex": "\\begin{equation}\n\\left[\n\\begin{array}{c}\n0 \\\\\n0 \\\\\n0 \\\\\n0 \\\\\n0 \\\\\n0 \\\\\n\\theta_1 \\\\\n1.5708 \\\\\n0 \\\\\n0 \\\\\n0 \\\\\n0 \\\\\n\\end{array}\n\\right]\n\\end{equation}\n",
        "text/plain": "L\"\\begin{equation}\n\\left[\n\\begin{array}{c}\n0 \\\\\n0 \\\\\n0 \\\\\n0 \\\\\n0 \\\\\n0 \\\\\n\\theta_1 \\\\\n1.5708 \\\\\n0 \\\\\n0 \\\\\n0 \\\\\n0 \\\\\n\\end{array}\n\\right]\n\\end{equation}\n\""
       },
       "metadata": {},
       "status": "ok"
      }
     }
    ]
   },
   "source": [
    "The boundary conditions are\n",
    "$$\n",
    "x_0  = `{julia} latexify(x_0)`,\n",
    "x_f = `{julia} latexify(x1)`\n",
    "$$"
   ]
  },
  {
   "cell_type": "code",
   "execution_count": 9,
   "id": "227ff445-9c7d-48d3-a813-c9d5b57d95d2",
   "metadata": {},
   "outputs": [],
   "source": [
    "g_ic = x - x0\n",
    "g_tc = x - x1;"
   ]
  },
  {
   "cell_type": "markdown",
   "id": "b8f4be3a-677e-48b1-96d2-bf4a827c05ab",
   "metadata": {},
   "source": [
    "### Equations of Motions"
   ]
  },
  {
   "cell_type": "markdown",
   "id": "92567450-a173-44e7-bcbb-eb83dfbc3bea",
   "metadata": {
    "jp-MarkdownHeadingCollapsed": true
   },
   "source": [
    "#### Euler's Law\n",
    "$$\n",
    "\\begin{cases}\n",
    "\\dot\\omega_1 = \\frac{T + (I_2 - I_3)\\omega_2\\omega_3}{I_1} \\\\\n",
    "\\dot\\omega_2 = \\frac{T + (I_3 - I_1)\\omega_3\\omega_1}{I_2} \\\\\n",
    "\\dot\\omega_3 = \\frac{T + (I_1 - I_2)\\omega_1\\omega_2}{I_3} \\\\\n",
    "\\end{cases}\n",
    "$$\n",
    "\n",
    "#### Newton's Second Law\n",
    "$$F = ma$$\n",
    "\n",
    "#### Euler Angle Update - 121 Sequence\n",
    "$$\n",
    "\\begin{cases}\n",
    "B^{-1} = \\frac{1}{\\sin(\\theta_2)}\\begin{pmatrix} 0 & \\sin(\\theta_3) & \\cos(\\theta_3) \\\\\n",
    "0 & \\sin(\\theta_2) \\cos(\\theta_3) & -\\sin(\\theta_2) \\sin(\\theta_3) \\\\\n",
    "\\sin(\\theta_2) & -\\cos(\\theta_2) \\sin(\\theta_3) & -\\cos(\\theta_2) \\cos(\\theta_3)\n",
    "\\end{pmatrix} \\\\\n",
    "\\dot\\theta = B^{-1} \\vec\\omega\n",
    "\\end{cases}\n",
    "$$"
   ]
  },
  {
   "cell_type": "markdown",
   "id": "3dd12b5c-bcf4-4a1d-8a61-b723e9592a22",
   "metadata": {},
   "source": [
    "### Dynamics"
   ]
  },
  {
   "cell_type": "code",
   "execution_count": 10,
   "id": "d4ae8e98-070c-45f7-84da-3215ef6a21b9",
   "metadata": {
    "tags": []
   },
   "outputs": [
    {
     "data": {
      "text/latex": [
       "$$ \\begin{equation}\n",
       "\\left[\n",
       "\\begin{array}{c}\n",
       "v_1 \\\\\n",
       "v_2 \\\\\n",
       "v_3 \\\\\n",
       "\\frac{\\left( T_1 \\cos\\left( \\theta_2 \\right) + T_2 \\sin\\left( \\theta_1 \\right) \\sin\\left( \\theta_2 \\right) - T_3 \\sin\\left( \\theta_2 \\right) \\cos\\left( \\theta_1 \\right) \\right) \\cos\\left( \\gamma \\right)}{m} \\\\\n",
       "\\frac{\\left( T_1 \\sin\\left( \\theta_3 \\right) \\sin\\left( \\theta_2 \\right) + T_2 \\left( \\cos\\left( \\theta_3 \\right) \\cos\\left( \\theta_1 \\right) - \\cos\\left( \\theta_2 \\right) \\sin\\left( \\theta_1 \\right) \\sin\\left( \\theta_3 \\right) \\right) + T_3 \\left( \\cos\\left( \\theta_3 \\right) \\sin\\left( \\theta_1 \\right) + \\cos\\left( \\theta_2 \\right) \\sin\\left( \\theta_3 \\right) \\cos\\left( \\theta_1 \\right) \\right) \\right) \\cos\\left( \\gamma \\right)}{m} \\\\\n",
       " - g + \\frac{\\left( T_1 \\cos\\left( \\theta_3 \\right) \\sin\\left( \\theta_2 \\right) + T_2 \\left(  - \\sin\\left( \\theta_3 \\right) \\cos\\left( \\theta_1 \\right) - \\cos\\left( \\theta_2 \\right) \\cos\\left( \\theta_3 \\right) \\sin\\left( \\theta_1 \\right) \\right) + T_3 \\left(  - \\sin\\left( \\theta_1 \\right) \\sin\\left( \\theta_3 \\right) + \\cos\\left( \\theta_2 \\right) \\cos\\left( \\theta_3 \\right) \\cos\\left( \\theta_1 \\right) \\right) \\right) \\cos\\left( \\gamma \\right)}{m} \\\\\n",
       "\\frac{\\sin\\left( \\theta_3 \\right) \\omega_2}{\\sin\\left( \\theta_2 \\right)} + \\frac{\\cos\\left( \\theta_3 \\right) \\omega_3}{\\sin\\left( \\theta_2 \\right)} \\\\\n",
       "\\cos\\left( \\theta_3 \\right) \\omega_2 - \\sin\\left( \\theta_3 \\right) \\omega_3 \\\\\n",
       "\\frac{ - \\cos\\left( \\theta_2 \\right) \\cos\\left( \\theta_3 \\right) \\omega_3}{\\sin\\left( \\theta_2 \\right)} + \\frac{ - \\cos\\left( \\theta_2 \\right) \\sin\\left( \\theta_3 \\right) \\omega_2}{\\sin\\left( \\theta_2 \\right)} + \\omega_1 \\\\\n",
       "\\frac{\\sin\\left( \\gamma \\right) \\sigma + \\left( J_2 - J_3 \\right) \\omega_2 \\omega_3}{J_1} \\\\\n",
       "\\frac{L T_3 + \\left(  - J_1 + J_3 \\right) \\omega_1 \\omega_3}{J_2} \\\\\n",
       "\\frac{ - L T_2 + \\left( J_1 - J_2 \\right) \\omega_1 \\omega_2}{J_3} \\\\\n",
       "\\end{array}\n",
       "\\right]\n",
       "\\end{equation}\n",
       " $$"
      ],
      "text/plain": [
       "12-element Vector{Num}:\n",
       "                                                                                                                                         v₁\n",
       "                                                                                                                                         v₂\n",
       "                                                                                                                                         v₃\n",
       "                                                                        ((T₁*cos(θ₂) + T₂*sin(θ₁)*sin(θ₂) - T₃*sin(θ₂)*cos(θ₁))*cos(γ)) / m\n",
       "        ((T₁*sin(θ₃)*sin(θ₂) + T₂*(cos(θ₃)*cos(θ₁) - cos(θ₂)*sin(θ₁)*sin(θ₃)) + T₃*(cos(θ₃)*sin(θ₁) + cos(θ₂)*sin(θ₃)*cos(θ₁)))*cos(γ)) / m\n",
       " -g + ((T₁*cos(θ₃)*sin(θ₂) + T₂*(-sin(θ₃)*cos(θ₁) - cos(θ₂)*cos(θ₃)*sin(θ₁)) + T₃*(-sin(θ₁)*sin(θ₃) + cos(θ₂)*cos(θ₃)*cos(θ₁)))*cos(γ)) / m\n",
       "                                                                                            (sin(θ₃)*ω₂) / sin(θ₂) + (cos(θ₃)*ω₃) / sin(θ₂)\n",
       "                                                                                                                    cos(θ₃)*ω₂ - sin(θ₃)*ω₃\n",
       "                                                                     (-cos(θ₂)*cos(θ₃)*ω₃) / sin(θ₂) + (-cos(θ₂)*sin(θ₃)*ω₂) / sin(θ₂) + ω₁\n",
       "                                                                                                          (sin(γ)*σ + (J₂ - J₃)*ω₂*ω₃) / J₁\n",
       "                                                                                                             (L*T₃ + (-J₁ + J₃)*ω₁*ω₃) / J₂\n",
       "                                                                                                             (-L*T₂ + (J₁ - J₂)*ω₁*ω₂) / J₃"
      ]
     },
     "execution_count": 16,
     "metadata": {},
     "output_type": "execute_result"
    }
   ],
   "source": [
    "x_dot = v\n",
    "Rxθ1 = [1 0 0; \n",
    "        0 cos(θ[1]) -sin(θ[1]); \n",
    "        0 sin(θ[1]) cos(θ[1])]\n",
    "Ryθ2 = [cos(θ[2]) 0 sin(θ[2]); \n",
    "        0 1 0; \n",
    "        -sin(θ[2]) 0 cos(θ[2])]\n",
    "Rxθ3 = [1 0 0; \n",
    "        0 cos(θ[3]) -sin(θ[3]); \n",
    "        0 sin(θ[3]) cos(θ[3])]\n",
    "C_be = (Rxθ1 * Ryθ2 * Rxθ3)\n",
    "C_eb = (Rxθ1 * Ryθ2 * Rxθ3)'\n",
    "v_dot = C_eb * T / m * cos(γ) + [0; 0; -g]\n",
    "B_inv = 1 ./ sin(θ[2]) * [0 sin(θ[3]) cos(θ[3]); \n",
    "    0 sin(θ[2]) * cos(θ[3]) -sin(θ[2]) * sin(θ[3]); \n",
    "    sin(θ[2]) -cos(θ[2]) * sin(θ[3]) -cos(θ[2]) * cos(θ[3])]\n",
    "θ_dot = B_inv * ω # Need actual update\n",
    "M = σ .* sin(γ) .* [1, 0, 0] + cross([-L, 0, 0], T)\n",
    "ω_dot = (M .+ (J[[2, 3, 1]] .- J[[3, 1, 2]]) .* ω[[2, 3, 1]] .* ω[[3, 1, 2]]) ./ J\n",
    "f_ = [x_dot; v_dot; θ_dot; ω_dot]"
   ]
  },
  {
   "cell_type": "markdown",
   "id": "4fa197ce-3956-47cd-b265-2dd0b3bb2f22",
   "metadata": {},
   "source": [
    "### Cost Function"
   ]
  },
  {
   "attachments": {
    "5f195a9e-afe3-4699-bcf1-f85a4aef09e5.png": {
     "image/png": "[encoded data removed]"
    }
   },
   "cell_type": "markdown",
   "id": "27816bcd-84dd-4fda-9077-c2194fd4020f",
   "metadata": {},
   "source": [
    "Assuming Bolza Form of the cost function:\n",
    "![image.png](attachment:5f195a9e-afe3-4699-bcf1-f85a4aef09e5.png)"
   ]
  },
  {
   "cell_type": "markdown",
   "id": "73be4cef-05bb-4db4-97d8-cbb20e6bea63",
   "metadata": {},
   "source": [
    "#### Terminal Cost $\\phi(x(1), p)$"
   ]
  },
  {
   "cell_type": "markdown",
   "id": "be96329c-f25b-4ff0-9705-c8f8ff7ad3b7",
   "metadata": {},
   "source": [
    "Altitude : $r_z^2$"
   ]
  },
  {
   "cell_type": "code",
   "execution_count": 11,
   "id": "da37eeae-482c-44e2-9b91-63393f325b96",
   "metadata": {},
   "outputs": [],
   "source": [
    "ϕ(x, p) = x[3]^2;# + p[1] / tf_min * 0.01;"
   ]
  },
  {
   "cell_type": "markdown",
   "id": "94ca6e29-fa88-4dad-9a12-6e964a08548b",
   "metadata": {},
   "source": [
    "#### Running Cost $\\Gamma(x(t), u(t), p)$"
   ]
  },
  {
   "cell_type": "markdown",
   "id": "ab076e79-61db-4892-8c97-2e89dd51654d",
   "metadata": {},
   "source": [
    "Thrust: $\\frac{||T||}{T_{max}} = \\frac{\\sigma}{T_{max}}$\n",
    "\n",
    "Vane Angle: $(\\frac{\\gamma}{\\gamma_{max}})^2$"
   ]
  },
  {
   "cell_type": "code",
   "execution_count": 12,
   "id": "63ceab98-ac65-44fa-a368-fd87838aadfa",
   "metadata": {},
   "outputs": [],
   "source": [
    "Γ(x, u, p) = u[4] / T_max_ + (u[5] / γ_max_)^2;# + x[10]^2;"
   ]
  },
  {
   "cell_type": "markdown",
   "id": "369a8664-370c-4300-be54-259b99a71559",
   "metadata": {},
   "source": [
    "## SCP Problem Definition for MPC\n",
    "\n",
    "SCP: Successive Convex Programming\n",
    "MPC: Model Predictive Control"
   ]
  },
  {
   "cell_type": "markdown",
   "id": "8d0d85bb-cf4f-4c5b-a147-df895082c991",
   "metadata": {},
   "source": [
    "### Optimal Control Optimization Problem Definition"
   ]
  },
  {
   "cell_type": "markdown",
   "id": "6b2c35ed-98e0-4036-873a-41c6b93c24b0",
   "metadata": {},
   "source": [
    "#### General Form\n",
    "![image.png](attachment:987ceadc-616f-48dc-8460-190016705809.png)"
   ]
  },
  {
   "cell_type": "markdown",
   "id": "c5d31286-a035-4695-a9e2-2327f5ba1427",
   "metadata": {},
   "source": [
    "### SCP Optimization Problem Definition"
   ]
  },
  {
   "cell_type": "markdown",
   "id": "4b13e69d-09a3-4f7c-9850-cd3a07397570",
   "metadata": {},
   "source": [
    "Scale the dynamics by the final time so that the final time can be a free parameter."
   ]
  },
  {
   "cell_type": "code",
   "execution_count": 13,
   "id": "5c243a65-5b74-4a10-86a6-4772137675d6",
   "metadata": {
    "tags": []
   },
   "outputs": [
    {
     "data": {
      "text/latex": [
       "$$ \\begin{equation}\n",
       "\\left[\n",
       "\\begin{array}{c}\n",
       "t_{f} v_1 \\\\\n",
       "t_{f} v_2 \\\\\n",
       "t_{f} v_3 \\\\\n",
       "\\frac{\\left( T_1 \\cos\\left( \\theta_2 \\right) + T_2 \\sin\\left( \\theta_1 \\right) \\sin\\left( \\theta_2 \\right) - T_3 \\sin\\left( \\theta_2 \\right) \\cos\\left( \\theta_1 \\right) \\right) t_{f} \\cos\\left( \\gamma \\right)}{m} \\\\\n",
       "\\frac{\\left( T_1 \\sin\\left( \\theta_3 \\right) \\sin\\left( \\theta_2 \\right) + T_2 \\left( \\cos\\left( \\theta_3 \\right) \\cos\\left( \\theta_1 \\right) - \\cos\\left( \\theta_2 \\right) \\sin\\left( \\theta_1 \\right) \\sin\\left( \\theta_3 \\right) \\right) + T_3 \\left( \\cos\\left( \\theta_3 \\right) \\sin\\left( \\theta_1 \\right) + \\cos\\left( \\theta_2 \\right) \\sin\\left( \\theta_3 \\right) \\cos\\left( \\theta_1 \\right) \\right) \\right) t_{f} \\cos\\left( \\gamma \\right)}{m} \\\\\n",
       "\\left(  - g + \\frac{\\left( T_1 \\cos\\left( \\theta_3 \\right) \\sin\\left( \\theta_2 \\right) + T_2 \\left(  - \\sin\\left( \\theta_3 \\right) \\cos\\left( \\theta_1 \\right) - \\cos\\left( \\theta_2 \\right) \\cos\\left( \\theta_3 \\right) \\sin\\left( \\theta_1 \\right) \\right) + T_3 \\left(  - \\sin\\left( \\theta_1 \\right) \\sin\\left( \\theta_3 \\right) + \\cos\\left( \\theta_2 \\right) \\cos\\left( \\theta_3 \\right) \\cos\\left( \\theta_1 \\right) \\right) \\right) \\cos\\left( \\gamma \\right)}{m} \\right) t_{f} \\\\\n",
       "t_{f} \\left( \\frac{\\sin\\left( \\theta_3 \\right) \\omega_2}{\\sin\\left( \\theta_2 \\right)} + \\frac{\\cos\\left( \\theta_3 \\right) \\omega_3}{\\sin\\left( \\theta_2 \\right)} \\right) \\\\\n",
       "t_{f} \\left( \\cos\\left( \\theta_3 \\right) \\omega_2 - \\sin\\left( \\theta_3 \\right) \\omega_3 \\right) \\\\\n",
       "t_{f} \\left( \\frac{ - \\cos\\left( \\theta_2 \\right) \\cos\\left( \\theta_3 \\right) \\omega_3}{\\sin\\left( \\theta_2 \\right)} + \\frac{ - \\cos\\left( \\theta_2 \\right) \\sin\\left( \\theta_3 \\right) \\omega_2}{\\sin\\left( \\theta_2 \\right)} + \\omega_1 \\right) \\\\\n",
       "\\frac{\\left( \\sin\\left( \\gamma \\right) \\sigma + \\left( J_2 - J_3 \\right) \\omega_2 \\omega_3 \\right) t_{f}}{J_1} \\\\\n",
       "\\frac{\\left( L T_3 + \\left(  - J_1 + J_3 \\right) \\omega_1 \\omega_3 \\right) t_{f}}{J_2} \\\\\n",
       "\\frac{\\left(  - L T_2 + \\left( J_1 - J_2 \\right) \\omega_1 \\omega_2 \\right) t_{f}}{J_3} \\\\\n",
       "\\end{array}\n",
       "\\right]\n",
       "\\end{equation}\n",
       " $$"
      ],
      "text/plain": [
       "12-element Vector{Num}:\n",
       "                                                                                                                                              t_f*v₁\n",
       "                                                                                                                                              t_f*v₂\n",
       "                                                                                                                                              t_f*v₃\n",
       "                                                                                      ((T₁*cos(θ₂) + T₂*sin(θ₁)*sin(θ₂) - T₃*sin(θ₂)*cos(θ₁))*t_f*cos(γ)) / m\n",
       "                      ((T₁*sin(θ₃)*sin(θ₂) + T₂*(cos(θ₃)*cos(θ₁) - cos(θ₂)*sin(θ₁)*sin(θ₃)) + T₃*(cos(θ₃)*sin(θ₁) + cos(θ₂)*sin(θ₃)*cos(θ₁)))*t_f*cos(γ)) / m\n",
       " (-g + ((T₁*cos(θ₃)*sin(θ₂) + T₂*(-sin(θ₃)*cos(θ₁) - cos(θ₂)*cos(θ₃)*sin(θ₁)) + T₃*(-sin(θ₁)*sin(θ₃) + cos(θ₂)*cos(θ₃)*cos(θ₁)))*cos(γ)) / m)*t_f\n",
       "                                                                                                                                              t_f*((sin(θ₃)*ω₂) / sin(θ₂) + (cos(θ₃)*ω₃) / sin(θ₂))\n",
       "                                                                                                                                              t_f*(cos(θ₃)*ω₂ - sin(θ₃)*ω₃)\n",
       "                                                                                                                                              t_f*((-cos(θ₂)*cos(θ₃)*ω₃) / sin(θ₂) + (-cos(θ₂)*sin(θ₃)*ω₂) / sin(θ₂) + ω₁)\n",
       "                                                                                                                ((sin(γ)*σ + (J₂ - J₃)*ω₂*ω₃)*t_f) / J₁\n",
       "                                                                                                                   ((L*T₃ + (-J₁ + J₃)*ω₁*ω₃)*t_f) / J₂\n",
       "                                                                                                                   ((-L*T₂ + (J₁ - J₂)*ω₁*ω₂)*t_f) / J₃"
      ]
     },
     "execution_count": 19,
     "metadata": {},
     "output_type": "execute_result"
    }
   ],
   "source": [
    "f_n = f_ * t_f"
   ]
  },
  {
   "cell_type": "markdown",
   "id": "7c29f534-610d-47c0-88f2-f6bfc6ed5547",
   "metadata": {},
   "source": [
    "#### Jacobian Calculations"
   ]
  },
  {
   "cell_type": "markdown",
   "id": "fd2b6213-c080-4e41-8baf-8e3ca54ac859",
   "metadata": {},
   "source": [
    "State: $A = \\nabla_x f =$"
   ]
  },
  {
   "cell_type": "code",
   "execution_count": 14,
   "id": "c2b9e0c8-964b-4c58-954b-2fa4b4f12872",
   "metadata": {
    "tags": []
   },
   "outputs": [
    {
     "data": {
      "text/latex": [
       "$$ \\begin{equation}\n",
       "\\left[\n",
       "\\begin{array}{cccccccccccc}\n",
       "0 & 0 & 0 & t_{f} & 0 & 0 & 0 & 0 & 0 & 0 & 0 & 0 \\\\\n",
       "0 & 0 & 0 & 0 & t_{f} & 0 & 0 & 0 & 0 & 0 & 0 & 0 \\\\\n",
       "0 & 0 & 0 & 0 & 0 & t_{f} & 0 & 0 & 0 & 0 & 0 & 0 \\\\\n",
       "0 & 0 & 0 & 0 & 0 & 0 & \\frac{\\left( T_2 \\sin\\left( \\theta_2 \\right) \\cos\\left( \\theta_1 \\right) + T_3 \\sin\\left( \\theta_1 \\right) \\sin\\left( \\theta_2 \\right) \\right) t_{f} \\cos\\left( \\gamma \\right)}{m} & \\frac{\\left(  - T_1 \\sin\\left( \\theta_2 \\right) + T_2 \\cos\\left( \\theta_2 \\right) \\sin\\left( \\theta_1 \\right) - T_3 \\cos\\left( \\theta_2 \\right) \\cos\\left( \\theta_1 \\right) \\right) t_{f} \\cos\\left( \\gamma \\right)}{m} & 0 & 0 & 0 & 0 \\\\\n",
       "0 & 0 & 0 & 0 & 0 & 0 & \\frac{\\left( T_2 \\left(  - \\cos\\left( \\theta_3 \\right) \\sin\\left( \\theta_1 \\right) - \\cos\\left( \\theta_2 \\right) \\sin\\left( \\theta_3 \\right) \\cos\\left( \\theta_1 \\right) \\right) + T_3 \\left( \\cos\\left( \\theta_3 \\right) \\cos\\left( \\theta_1 \\right) - \\cos\\left( \\theta_2 \\right) \\sin\\left( \\theta_1 \\right) \\sin\\left( \\theta_3 \\right) \\right) \\right) t_{f} \\cos\\left( \\gamma \\right)}{m} & \\frac{\\left( T_1 \\cos\\left( \\theta_2 \\right) \\sin\\left( \\theta_3 \\right) + T_2 \\sin\\left( \\theta_1 \\right) \\sin\\left( \\theta_3 \\right) \\sin\\left( \\theta_2 \\right) - T_3 \\sin\\left( \\theta_3 \\right) \\sin\\left( \\theta_2 \\right) \\cos\\left( \\theta_1 \\right) \\right) t_{f} \\cos\\left( \\gamma \\right)}{m} & \\frac{\\left( T_1 \\cos\\left( \\theta_3 \\right) \\sin\\left( \\theta_2 \\right) + T_2 \\left(  - \\sin\\left( \\theta_3 \\right) \\cos\\left( \\theta_1 \\right) - \\cos\\left( \\theta_2 \\right) \\cos\\left( \\theta_3 \\right) \\sin\\left( \\theta_1 \\right) \\right) + T_3 \\left(  - \\sin\\left( \\theta_1 \\right) \\sin\\left( \\theta_3 \\right) + \\cos\\left( \\theta_2 \\right) \\cos\\left( \\theta_3 \\right) \\cos\\left( \\theta_1 \\right) \\right) \\right) t_{f} \\cos\\left( \\gamma \\right)}{m} & 0 & 0 & 0 \\\\\n",
       "0 & 0 & 0 & 0 & 0 & 0 & \\frac{\\left( T_2 \\left( \\sin\\left( \\theta_1 \\right) \\sin\\left( \\theta_3 \\right) - \\cos\\left( \\theta_2 \\right) \\cos\\left( \\theta_3 \\right) \\cos\\left( \\theta_1 \\right) \\right) + T_3 \\left(  - \\sin\\left( \\theta_3 \\right) \\cos\\left( \\theta_1 \\right) - \\cos\\left( \\theta_2 \\right) \\cos\\left( \\theta_3 \\right) \\sin\\left( \\theta_1 \\right) \\right) \\right) t_{f} \\cos\\left( \\gamma \\right)}{m} & \\frac{\\left( T_1 \\cos\\left( \\theta_2 \\right) \\cos\\left( \\theta_3 \\right) + T_2 \\cos\\left( \\theta_3 \\right) \\sin\\left( \\theta_1 \\right) \\sin\\left( \\theta_2 \\right) - T_3 \\cos\\left( \\theta_3 \\right) \\sin\\left( \\theta_2 \\right) \\cos\\left( \\theta_1 \\right) \\right) t_{f} \\cos\\left( \\gamma \\right)}{m} & \\frac{\\left(  - T_1 \\sin\\left( \\theta_3 \\right) \\sin\\left( \\theta_2 \\right) + T_2 \\left(  - \\cos\\left( \\theta_3 \\right) \\cos\\left( \\theta_1 \\right) + \\cos\\left( \\theta_2 \\right) \\sin\\left( \\theta_1 \\right) \\sin\\left( \\theta_3 \\right) \\right) + T_3 \\left(  - \\cos\\left( \\theta_3 \\right) \\sin\\left( \\theta_1 \\right) - \\cos\\left( \\theta_2 \\right) \\sin\\left( \\theta_3 \\right) \\cos\\left( \\theta_1 \\right) \\right) \\right) t_{f} \\cos\\left( \\gamma \\right)}{m} & 0 & 0 & 0 \\\\\n",
       "0 & 0 & 0 & 0 & 0 & 0 & 0 & t_{f} \\left(  - \\cos\\left( \\theta_2 \\right) \\frac{\\sin\\left( \\theta_3 \\right) \\omega_2}{\\sin^{2}\\left( \\theta_2 \\right)} - \\cos\\left( \\theta_2 \\right) \\frac{\\cos\\left( \\theta_3 \\right) \\omega_3}{\\sin^{2}\\left( \\theta_2 \\right)} \\right) & t_{f} \\left( \\frac{ - \\sin\\left( \\theta_3 \\right) \\omega_3}{\\sin\\left( \\theta_2 \\right)} + \\frac{\\cos\\left( \\theta_3 \\right) \\omega_2}{\\sin\\left( \\theta_2 \\right)} \\right) & 0 & \\frac{t_{f} \\sin\\left( \\theta_3 \\right)}{\\sin\\left( \\theta_2 \\right)} & \\frac{t_{f} \\cos\\left( \\theta_3 \\right)}{\\sin\\left( \\theta_2 \\right)} \\\\\n",
       "0 & 0 & 0 & 0 & 0 & 0 & 0 & 0 & t_{f} \\left(  - \\cos\\left( \\theta_3 \\right) \\omega_3 - \\sin\\left( \\theta_3 \\right) \\omega_2 \\right) & 0 & t_{f} \\cos\\left( \\theta_3 \\right) &  - t_{f} \\sin\\left( \\theta_3 \\right) \\\\\n",
       "0 & 0 & 0 & 0 & 0 & 0 & 0 & t_{f} \\left(  - \\cos\\left( \\theta_2 \\right) \\frac{ - \\cos\\left( \\theta_2 \\right) \\cos\\left( \\theta_3 \\right) \\omega_3}{\\sin^{2}\\left( \\theta_2 \\right)} - \\cos\\left( \\theta_2 \\right) \\frac{ - \\cos\\left( \\theta_2 \\right) \\sin\\left( \\theta_3 \\right) \\omega_2}{\\sin^{2}\\left( \\theta_2 \\right)} + \\cos\\left( \\theta_3 \\right) \\omega_3 + \\sin\\left( \\theta_3 \\right) \\omega_2 \\right) & t_{f} \\left( \\frac{ - \\cos\\left( \\theta_2 \\right) \\cos\\left( \\theta_3 \\right) \\omega_2}{\\sin\\left( \\theta_2 \\right)} + \\frac{\\cos\\left( \\theta_2 \\right) \\sin\\left( \\theta_3 \\right) \\omega_3}{\\sin\\left( \\theta_2 \\right)} \\right) & t_{f} & \\frac{ - t_{f} \\cos\\left( \\theta_2 \\right) \\sin\\left( \\theta_3 \\right)}{\\sin\\left( \\theta_2 \\right)} & \\frac{ - t_{f} \\cos\\left( \\theta_2 \\right) \\cos\\left( \\theta_3 \\right)}{\\sin\\left( \\theta_2 \\right)} \\\\\n",
       "0 & 0 & 0 & 0 & 0 & 0 & 0 & 0 & 0 & 0 & \\frac{\\left( J_2 - J_3 \\right) t_{f} \\omega_3}{J_1} & \\frac{\\left( J_2 - J_3 \\right) t_{f} \\omega_2}{J_1} \\\\\n",
       "0 & 0 & 0 & 0 & 0 & 0 & 0 & 0 & 0 & \\frac{\\left(  - J_1 + J_3 \\right) t_{f} \\omega_3}{J_2} & 0 & \\frac{\\left(  - J_1 + J_3 \\right) t_{f} \\omega_1}{J_2} \\\\\n",
       "0 & 0 & 0 & 0 & 0 & 0 & 0 & 0 & 0 & \\frac{\\left( J_1 - J_2 \\right) t_{f} \\omega_2}{J_3} & \\frac{\\left( J_1 - J_2 \\right) t_{f} \\omega_1}{J_3} & 0 \\\\\n",
       "\\end{array}\n",
       "\\right]\n",
       "\\end{equation}\n",
       " $$"
      ],
      "text/plain": [
       "12×12 Matrix{Num}:\n",
       " 0  0  0  t_f   0    0   …               0\n",
       " 0  0  0   0   t_f   0                   0\n",
       " 0  0  0   0    0   t_f                  0\n",
       " 0  0  0   0    0    0                   0\n",
       " 0  0  0   0    0    0                   0\n",
       " 0  0  0   0    0    0   …               0\n",
       " 0  0  0   0    0    0                 (t_f*cos(θ₃)) / sin(θ₂)\n",
       " 0  0  0   0    0    0                 -t_f*sin(θ₃)\n",
       " 0  0  0   0    0    0                (-t_f*cos(θ₂)*cos(θ₃)) / sin(θ₂)\n",
       " 0  0  0   0    0    0       ((J₂ - J₃)*t_f*ω₂) / J₁\n",
       " 0  0  0   0    0    0   …  ((-J₁ + J₃)*t_f*ω₁) / J₂\n",
       " 0  0  0   0    0    0                   0"
      ]
     },
     "execution_count": 20,
     "metadata": {},
     "output_type": "execute_result"
    }
   ],
   "source": [
    "A_l = Symbolics.jacobian(f_n, x)"
   ]
  },
  {
   "cell_type": "markdown",
   "id": "aef5f849-2c0a-4619-a904-eae711594f32",
   "metadata": {},
   "source": [
    "Control: $B = \\nabla_u f =$"
   ]
  },
  {
   "cell_type": "code",
   "execution_count": 15,
   "id": "bf205570-25b9-400a-93c1-4d8648177d6d",
   "metadata": {
    "tags": []
   },
   "outputs": [
    {
     "data": {
      "text/latex": [
       "$$ \\begin{equation}\n",
       "\\left[\n",
       "\\begin{array}{ccccc}\n",
       "0 & 0 & 0 & 0 & 0 \\\\\n",
       "0 & 0 & 0 & 0 & 0 \\\\\n",
       "0 & 0 & 0 & 0 & 0 \\\\\n",
       "\\frac{t_{f} \\cos\\left( \\gamma \\right) \\cos\\left( \\theta_2 \\right)}{m} & \\frac{t_{f} \\cos\\left( \\gamma \\right) \\sin\\left( \\theta_1 \\right) \\sin\\left( \\theta_2 \\right)}{m} & \\frac{ - t_{f} \\cos\\left( \\gamma \\right) \\sin\\left( \\theta_2 \\right) \\cos\\left( \\theta_1 \\right)}{m} & 0 & \\frac{ - \\left( T_1 \\cos\\left( \\theta_2 \\right) + T_2 \\sin\\left( \\theta_1 \\right) \\sin\\left( \\theta_2 \\right) - T_3 \\sin\\left( \\theta_2 \\right) \\cos\\left( \\theta_1 \\right) \\right) t_{f} \\sin\\left( \\gamma \\right)}{m} \\\\\n",
       "\\frac{t_{f} \\cos\\left( \\gamma \\right) \\sin\\left( \\theta_3 \\right) \\sin\\left( \\theta_2 \\right)}{m} & \\frac{t_{f} \\cos\\left( \\gamma \\right) \\left( \\cos\\left( \\theta_3 \\right) \\cos\\left( \\theta_1 \\right) - \\cos\\left( \\theta_2 \\right) \\sin\\left( \\theta_1 \\right) \\sin\\left( \\theta_3 \\right) \\right)}{m} & \\frac{t_{f} \\cos\\left( \\gamma \\right) \\left( \\cos\\left( \\theta_3 \\right) \\sin\\left( \\theta_1 \\right) + \\cos\\left( \\theta_2 \\right) \\sin\\left( \\theta_3 \\right) \\cos\\left( \\theta_1 \\right) \\right)}{m} & 0 & \\frac{ - \\left( T_1 \\sin\\left( \\theta_3 \\right) \\sin\\left( \\theta_2 \\right) + T_2 \\left( \\cos\\left( \\theta_3 \\right) \\cos\\left( \\theta_1 \\right) - \\cos\\left( \\theta_2 \\right) \\sin\\left( \\theta_1 \\right) \\sin\\left( \\theta_3 \\right) \\right) + T_3 \\left( \\cos\\left( \\theta_3 \\right) \\sin\\left( \\theta_1 \\right) + \\cos\\left( \\theta_2 \\right) \\sin\\left( \\theta_3 \\right) \\cos\\left( \\theta_1 \\right) \\right) \\right) t_{f} \\sin\\left( \\gamma \\right)}{m} \\\\\n",
       "\\frac{t_{f} \\cos\\left( \\gamma \\right) \\cos\\left( \\theta_3 \\right) \\sin\\left( \\theta_2 \\right)}{m} & \\frac{t_{f} \\cos\\left( \\gamma \\right) \\left(  - \\sin\\left( \\theta_3 \\right) \\cos\\left( \\theta_1 \\right) - \\cos\\left( \\theta_2 \\right) \\cos\\left( \\theta_3 \\right) \\sin\\left( \\theta_1 \\right) \\right)}{m} & \\frac{t_{f} \\cos\\left( \\gamma \\right) \\left(  - \\sin\\left( \\theta_1 \\right) \\sin\\left( \\theta_3 \\right) + \\cos\\left( \\theta_2 \\right) \\cos\\left( \\theta_3 \\right) \\cos\\left( \\theta_1 \\right) \\right)}{m} & 0 & \\frac{ - \\left( T_1 \\cos\\left( \\theta_3 \\right) \\sin\\left( \\theta_2 \\right) + T_2 \\left(  - \\sin\\left( \\theta_3 \\right) \\cos\\left( \\theta_1 \\right) - \\cos\\left( \\theta_2 \\right) \\cos\\left( \\theta_3 \\right) \\sin\\left( \\theta_1 \\right) \\right) + T_3 \\left(  - \\sin\\left( \\theta_1 \\right) \\sin\\left( \\theta_3 \\right) + \\cos\\left( \\theta_2 \\right) \\cos\\left( \\theta_3 \\right) \\cos\\left( \\theta_1 \\right) \\right) \\right) t_{f} \\sin\\left( \\gamma \\right)}{m} \\\\\n",
       "0 & 0 & 0 & 0 & 0 \\\\\n",
       "0 & 0 & 0 & 0 & 0 \\\\\n",
       "0 & 0 & 0 & 0 & 0 \\\\\n",
       "0 & 0 & 0 & \\frac{t_{f} \\sin\\left( \\gamma \\right)}{J_1} & \\frac{t_{f} \\cos\\left( \\gamma \\right) \\sigma}{J_1} \\\\\n",
       "0 & 0 & \\frac{L t_{f}}{J_2} & 0 & 0 \\\\\n",
       "0 & \\frac{ - L t_{f}}{J_3} & 0 & 0 & 0 \\\\\n",
       "\\end{array}\n",
       "\\right]\n",
       "\\end{equation}\n",
       " $$"
      ],
      "text/plain": [
       "12×5 Matrix{Num}:\n",
       "   0                               …                                                                                                                              0\n",
       "   0                                                                                                                                                              0\n",
       "   0                                                                                                                                                              0\n",
       " (t_f*cos(γ)*cos(θ₂)) / m                                                                               (-(T₁*cos(θ₂) + T₂*sin(θ₁)*sin(θ₂) - T₃*sin(θ₂)*cos(θ₁))*t_f*sin(γ)) / m\n",
       " (t_f*cos(γ)*sin(θ₃)*sin(θ₂)) / m       (-(T₁*sin(θ₃)*sin(θ₂) + T₂*(cos(θ₃)*cos(θ₁) - cos(θ₂)*sin(θ₁)*sin(θ₃)) + T₃*(cos(θ₃)*sin(θ₁) + cos(θ₂)*sin(θ₃)*cos(θ₁)))*t_f*sin(γ)) / m\n",
       " (t_f*cos(γ)*cos(θ₃)*sin(θ₂)) / m  …  (-(T₁*cos(θ₃)*sin(θ₂) + T₂*(-sin(θ₃)*cos(θ₁) - cos(θ₂)*cos(θ₃)*sin(θ₁)) + T₃*(-sin(θ₁)*sin(θ₃) + cos(θ₂)*cos(θ₃)*cos(θ₁)))*t_f*sin(γ)) / m\n",
       "   0                                                                                                                                                              0\n",
       "   0                                                                                                                                                              0\n",
       "   0                                                                                                                                                              0\n",
       "   0                                                                                                                                                            (t_f*cos(γ)*σ) / J₁\n",
       "   0                               …                                                                                                                              0\n",
       "   0                                                                                                                                                              0"
      ]
     },
     "execution_count": 21,
     "metadata": {},
     "output_type": "execute_result"
    }
   ],
   "source": [
    "B_l = Symbolics.jacobian(f_n, u)"
   ]
  },
  {
   "cell_type": "markdown",
   "id": "698e5a6a-ced1-45aa-bb04-849542bc24bd",
   "metadata": {},
   "source": [
    "Parameter: $F = \\nabla_p f =$"
   ]
  },
  {
   "cell_type": "code",
   "execution_count": 16,
   "id": "7f8d91f7-3ba4-4130-a758-9c4e5a503f2b",
   "metadata": {
    "tags": []
   },
   "outputs": [
    {
     "data": {
      "text/latex": [
       "$$ \\begin{equation}\n",
       "\\left[\n",
       "\\begin{array}{c}\n",
       "v_1 \\\\\n",
       "v_2 \\\\\n",
       "v_3 \\\\\n",
       "\\frac{\\left( T_1 \\cos\\left( \\theta_2 \\right) + T_2 \\sin\\left( \\theta_1 \\right) \\sin\\left( \\theta_2 \\right) - T_3 \\sin\\left( \\theta_2 \\right) \\cos\\left( \\theta_1 \\right) \\right) \\cos\\left( \\gamma \\right)}{m} \\\\\n",
       "\\frac{\\left( T_1 \\sin\\left( \\theta_3 \\right) \\sin\\left( \\theta_2 \\right) + T_2 \\left( \\cos\\left( \\theta_3 \\right) \\cos\\left( \\theta_1 \\right) - \\cos\\left( \\theta_2 \\right) \\sin\\left( \\theta_1 \\right) \\sin\\left( \\theta_3 \\right) \\right) + T_3 \\left( \\cos\\left( \\theta_3 \\right) \\sin\\left( \\theta_1 \\right) + \\cos\\left( \\theta_2 \\right) \\sin\\left( \\theta_3 \\right) \\cos\\left( \\theta_1 \\right) \\right) \\right) \\cos\\left( \\gamma \\right)}{m} \\\\\n",
       " - g + \\frac{\\left( T_1 \\cos\\left( \\theta_3 \\right) \\sin\\left( \\theta_2 \\right) + T_2 \\left(  - \\sin\\left( \\theta_3 \\right) \\cos\\left( \\theta_1 \\right) - \\cos\\left( \\theta_2 \\right) \\cos\\left( \\theta_3 \\right) \\sin\\left( \\theta_1 \\right) \\right) + T_3 \\left(  - \\sin\\left( \\theta_1 \\right) \\sin\\left( \\theta_3 \\right) + \\cos\\left( \\theta_2 \\right) \\cos\\left( \\theta_3 \\right) \\cos\\left( \\theta_1 \\right) \\right) \\right) \\cos\\left( \\gamma \\right)}{m} \\\\\n",
       "\\frac{\\sin\\left( \\theta_3 \\right) \\omega_2}{\\sin\\left( \\theta_2 \\right)} + \\frac{\\cos\\left( \\theta_3 \\right) \\omega_3}{\\sin\\left( \\theta_2 \\right)} \\\\\n",
       "\\cos\\left( \\theta_3 \\right) \\omega_2 - \\sin\\left( \\theta_3 \\right) \\omega_3 \\\\\n",
       "\\frac{ - \\cos\\left( \\theta_2 \\right) \\cos\\left( \\theta_3 \\right) \\omega_3}{\\sin\\left( \\theta_2 \\right)} + \\frac{ - \\cos\\left( \\theta_2 \\right) \\sin\\left( \\theta_3 \\right) \\omega_2}{\\sin\\left( \\theta_2 \\right)} + \\omega_1 \\\\\n",
       "\\frac{\\sin\\left( \\gamma \\right) \\sigma + \\left( J_2 - J_3 \\right) \\omega_2 \\omega_3}{J_1} \\\\\n",
       "\\frac{L T_3 + \\left(  - J_1 + J_3 \\right) \\omega_1 \\omega_3}{J_2} \\\\\n",
       "\\frac{ - L T_2 + \\left( J_1 - J_2 \\right) \\omega_1 \\omega_2}{J_3} \\\\\n",
       "\\end{array}\n",
       "\\right]\n",
       "\\end{equation}\n",
       " $$"
      ],
      "text/plain": [
       "12×1 Matrix{Num}:\n",
       "                                                                                                                                         v₁\n",
       "                                                                                                                                         v₂\n",
       "                                                                                                                                         v₃\n",
       "                                                                        ((T₁*cos(θ₂) + T₂*sin(θ₁)*sin(θ₂) - T₃*sin(θ₂)*cos(θ₁))*cos(γ)) / m\n",
       "        ((T₁*sin(θ₃)*sin(θ₂) + T₂*(cos(θ₃)*cos(θ₁) - cos(θ₂)*sin(θ₁)*sin(θ₃)) + T₃*(cos(θ₃)*sin(θ₁) + cos(θ₂)*sin(θ₃)*cos(θ₁)))*cos(γ)) / m\n",
       " -g + ((T₁*cos(θ₃)*sin(θ₂) + T₂*(-sin(θ₃)*cos(θ₁) - cos(θ₂)*cos(θ₃)*sin(θ₁)) + T₃*(-sin(θ₁)*sin(θ₃) + cos(θ₂)*cos(θ₃)*cos(θ₁)))*cos(γ)) / m\n",
       "                                                                                            (sin(θ₃)*ω₂) / sin(θ₂) + (cos(θ₃)*ω₃) / sin(θ₂)\n",
       "                                                                                                                    cos(θ₃)*ω₂ - sin(θ₃)*ω₃\n",
       "                                                                     (-cos(θ₂)*cos(θ₃)*ω₃) / sin(θ₂) + (-cos(θ₂)*sin(θ₃)*ω₂) / sin(θ₂) + ω₁\n",
       "                                                                                                          (sin(γ)*σ + (J₂ - J₃)*ω₂*ω₃) / J₁\n",
       "                                                                                                             (L*T₃ + (-J₁ + J₃)*ω₁*ω₃) / J₂\n",
       "                                                                                                             (-L*T₂ + (J₁ - J₂)*ω₁*ω₂) / J₃"
      ]
     },
     "execution_count": 22,
     "metadata": {},
     "output_type": "execute_result"
    }
   ],
   "source": [
    "F_l = Symbolics.jacobian(f_n, p)"
   ]
  },
  {
   "cell_type": "markdown",
   "id": "14ec9aa9-3221-493a-b52e-d77ccef08837",
   "metadata": {},
   "source": [
    "Nonconvex Path Constraint\n",
    "\n",
    "N/A - No nonconvex path constraints "
   ]
  },
  {
   "cell_type": "code",
   "execution_count": 17,
   "id": "b67c23ec-bdcc-46b2-9aae-15e5b434a235",
   "metadata": {},
   "outputs": [],
   "source": [
    "#C_l = Symbolics.jacobian(s_n, x)\n",
    "#D_l = Symbolics.jacobian(s_n, u)\n",
    "#G_l = Symbolics.jacobian(s_n, p)"
   ]
  },
  {
   "cell_type": "markdown",
   "id": "536f1b83-8f0c-4f40-80ed-2669e206ddbe",
   "metadata": {},
   "source": [
    "Boundary Conditions "
   ]
  },
  {
   "cell_type": "markdown",
   "id": "01ed734d-f6a2-4e5b-9ef3-450dfdaf740d",
   "metadata": {},
   "source": [
    "Initial conditions: $H_0 = \\nabla_x g_{ic} =$"
   ]
  },
  {
   "cell_type": "code",
   "execution_count": 18,
   "id": "cc8255ae-ddc0-4a19-aa5d-a91b327a2a8b",
   "metadata": {},
   "outputs": [
    {
     "data": {
      "text/latex": [
       "$$ \\begin{equation}\n",
       "\\left[\n",
       "\\begin{array}{cccccccccccc}\n",
       "1 & 0 & 0 & 0 & 0 & 0 & 0 & 0 & 0 & 0 & 0 & 0 \\\\\n",
       "0 & 1 & 0 & 0 & 0 & 0 & 0 & 0 & 0 & 0 & 0 & 0 \\\\\n",
       "0 & 0 & 1 & 0 & 0 & 0 & 0 & 0 & 0 & 0 & 0 & 0 \\\\\n",
       "0 & 0 & 0 & 1 & 0 & 0 & 0 & 0 & 0 & 0 & 0 & 0 \\\\\n",
       "0 & 0 & 0 & 0 & 1 & 0 & 0 & 0 & 0 & 0 & 0 & 0 \\\\\n",
       "0 & 0 & 0 & 0 & 0 & 1 & 0 & 0 & 0 & 0 & 0 & 0 \\\\\n",
       "0 & 0 & 0 & 0 & 0 & 0 & 1 & 0 & 0 & 0 & 0 & 0 \\\\\n",
       "0 & 0 & 0 & 0 & 0 & 0 & 0 & 1 & 0 & 0 & 0 & 0 \\\\\n",
       "0 & 0 & 0 & 0 & 0 & 0 & 0 & 0 & 1 & 0 & 0 & 0 \\\\\n",
       "0 & 0 & 0 & 0 & 0 & 0 & 0 & 0 & 0 & 1 & 0 & 0 \\\\\n",
       "0 & 0 & 0 & 0 & 0 & 0 & 0 & 0 & 0 & 0 & 1 & 0 \\\\\n",
       "0 & 0 & 0 & 0 & 0 & 0 & 0 & 0 & 0 & 0 & 0 & 1 \\\\\n",
       "\\end{array}\n",
       "\\right]\n",
       "\\end{equation}\n",
       " $$"
      ],
      "text/plain": [
       "12×12 Matrix{Num}:\n",
       " 1  0  0  0  0  0  0  0  0  0  0  0\n",
       " 0  1  0  0  0  0  0  0  0  0  0  0\n",
       " 0  0  1  0  0  0  0  0  0  0  0  0\n",
       " 0  0  0  1  0  0  0  0  0  0  0  0\n",
       " 0  0  0  0  1  0  0  0  0  0  0  0\n",
       " 0  0  0  0  0  1  0  0  0  0  0  0\n",
       " 0  0  0  0  0  0  1  0  0  0  0  0\n",
       " 0  0  0  0  0  0  0  1  0  0  0  0\n",
       " 0  0  0  0  0  0  0  0  1  0  0  0\n",
       " 0  0  0  0  0  0  0  0  0  1  0  0\n",
       " 0  0  0  0  0  0  0  0  0  0  1  0\n",
       " 0  0  0  0  0  0  0  0  0  0  0  1"
      ]
     },
     "execution_count": 24,
     "metadata": {},
     "output_type": "execute_result"
    }
   ],
   "source": [
    "#K_0 = Symbolics.jacobian(g_ic, p)\n",
    "\n",
    "H_0 = Symbolics.jacobian(g_ic, x)"
   ]
  },
  {
   "cell_type": "markdown",
   "id": "fac4fee3-6adc-4e7c-a4a6-2161850094ba",
   "metadata": {},
   "source": [
    "Terminal conditions: $H_f = \\nabla_x g_{tc} =$"
   ]
  },
  {
   "cell_type": "code",
   "execution_count": 19,
   "id": "750e6647-acd8-4d00-8b39-5744d3696443",
   "metadata": {},
   "outputs": [
    {
     "data": {
      "text/latex": [
       "$$ \\begin{equation}\n",
       "\\left[\n",
       "\\begin{array}{cccccccccccc}\n",
       "1 & 0 & 0 & 0 & 0 & 0 & 0 & 0 & 0 & 0 & 0 & 0 \\\\\n",
       "0 & 1 & 0 & 0 & 0 & 0 & 0 & 0 & 0 & 0 & 0 & 0 \\\\\n",
       "0 & 0 & 1 & 0 & 0 & 0 & 0 & 0 & 0 & 0 & 0 & 0 \\\\\n",
       "0 & 0 & 0 & 1 & 0 & 0 & 0 & 0 & 0 & 0 & 0 & 0 \\\\\n",
       "0 & 0 & 0 & 0 & 1 & 0 & 0 & 0 & 0 & 0 & 0 & 0 \\\\\n",
       "0 & 0 & 0 & 0 & 0 & 1 & 0 & 0 & 0 & 0 & 0 & 0 \\\\\n",
       "0 & 0 & 0 & 0 & 0 & 0 & 0 & 0 & 0 & 0 & 0 & 0 \\\\\n",
       "0 & 0 & 0 & 0 & 0 & 0 & 0 & 1 & 0 & 0 & 0 & 0 \\\\\n",
       "0 & 0 & 0 & 0 & 0 & 0 & 0 & 0 & 1 & 0 & 0 & 0 \\\\\n",
       "0 & 0 & 0 & 0 & 0 & 0 & 0 & 0 & 0 & 1 & 0 & 0 \\\\\n",
       "0 & 0 & 0 & 0 & 0 & 0 & 0 & 0 & 0 & 0 & 1 & 0 \\\\\n",
       "0 & 0 & 0 & 0 & 0 & 0 & 0 & 0 & 0 & 0 & 0 & 1 \\\\\n",
       "\\end{array}\n",
       "\\right]\n",
       "\\end{equation}\n",
       " $$"
      ],
      "text/plain": [
       "12×12 Matrix{Num}:\n",
       " 1  0  0  0  0  0  0  0  0  0  0  0\n",
       " 0  1  0  0  0  0  0  0  0  0  0  0\n",
       " 0  0  1  0  0  0  0  0  0  0  0  0\n",
       " 0  0  0  1  0  0  0  0  0  0  0  0\n",
       " 0  0  0  0  1  0  0  0  0  0  0  0\n",
       " 0  0  0  0  0  1  0  0  0  0  0  0\n",
       " 0  0  0  0  0  0  0  0  0  0  0  0\n",
       " 0  0  0  0  0  0  0  1  0  0  0  0\n",
       " 0  0  0  0  0  0  0  0  1  0  0  0\n",
       " 0  0  0  0  0  0  0  0  0  1  0  0\n",
       " 0  0  0  0  0  0  0  0  0  0  1  0\n",
       " 0  0  0  0  0  0  0  0  0  0  0  1"
      ]
     },
     "execution_count": 25,
     "metadata": {},
     "output_type": "execute_result"
    }
   ],
   "source": [
    "#K_f = Symbolics.jacobian(g_tc, p)\n",
    "\n",
    "H_f = Symbolics.jacobian(g_tc, x)"
   ]
  },
  {
   "cell_type": "markdown",
   "id": "31cc29bc-a4d1-49ab-b8b3-dda4f75bb069",
   "metadata": {},
   "source": [
    "#### Linearized Optimization Problem Definition\n",
    "![image.png](attachment:e3a10da5-6cb2-4ca7-9589-b4a901eb7e87.png)"
   ]
  },
  {
   "cell_type": "markdown",
   "id": "92f89d1a-0f25-4367-b37f-2c32ab94dbb0",
   "metadata": {},
   "source": [
    "### Initial Guess"
   ]
  },
  {
   "cell_type": "markdown",
   "id": "aaa88556-b3e1-4cc7-ad1d-9b5d475e41b0",
   "metadata": {},
   "source": [
    "The SCP algorithms do not require the initial guess to be feasible with respect to the dynamics or nonconvex path constraints, \n",
    "but they do require the guess to be feasible with respect to the convex path constraints"
   ]
  },
  {
   "cell_type": "markdown",
   "id": "23773318-3041-44f8-a35e-41b463d9a0e5",
   "metadata": {},
   "source": [
    "State\n",
    "- r: Straight line interpolation\n",
    "- v: Constant (from r)\n",
    "- θ: Straight line interpolation\n",
    "- ω: Constant (from θ)\n",
    "\n",
    "Control\n",
    "- T: Half max thrust, no thrust vectoring: $T_{guess} = \\frac{1}{2}T_{max}\\hat b_1$\n",
    "- γ: Zero vane angle (should never be very large)"
   ]
  },
  {
   "cell_type": "code",
   "execution_count": 20,
   "id": "8a2ca534-fb91-4eca-9a0b-b6e04db02d61",
   "metadata": {
    "jupyter": {
     "source_hidden": true
    }
   },
   "outputs": [],
   "source": [
    "\"\"\"\n",
    "    straightline_interpolate(v0, vf, N)\n",
    "\n",
    "Straight-line interpolation between two points. Compute a straight-line\n",
    "interpolation between an initial and a final vector, on a grid of N points.\n",
    "\n",
    "# Arguments\n",
    "- `v0`: starting vector.\n",
    "- `vf`: ending vector.\n",
    "- `N`: number of vectors in between (including endpoints).\n",
    "\n",
    "# Returns\n",
    "- `v`: the resulting interpolation (a matrix, k-th column is the k-th vector,\n",
    "  k=1,...,N).\n",
    "\"\"\"\n",
    "function straightline_interpolate(v0::RealVector, vf::RealVector, N::Int)::RealMatrix\n",
    "\n",
    "    # Initialize\n",
    "    nv = length(v0)\n",
    "    v = zeros(nv, N)\n",
    "\n",
    "    # Interpolation grid\n",
    "    times = LinRange(0.0, 1.0, N)\n",
    "    t_endpts = [times[1], times[end]]\n",
    "    v_endpts = hcat(v0, vf)\n",
    "\n",
    "    for k = 1:N\n",
    "        v[:, k] = linterp(times[k], v_endpts, t_endpts)\n",
    "    end\n",
    "\n",
    "    return v\n",
    "end\n",
    "\n",
    "\"\"\"\n",
    "    get_interval(x, grid)\n",
    "\n",
    "Compute grid bin. Get which grid interval a real number belongs to.\n",
    "\n",
    "# Arguments\n",
    "- `x`: the real number.\n",
    "- `grid`: the discrete grid on the real line.\n",
    "\n",
    "# Returns\n",
    "- `k`: the interval of the grid the the real number is in.\n",
    "\"\"\"\n",
    "function get_interval(x::RealValue, grid::RealVector)::Int\n",
    "    k = sum(x .> grid)\n",
    "    if k == 0\n",
    "        k = 1\n",
    "    end\n",
    "    return k\n",
    "end\n",
    "\n",
    "\"\"\"\n",
    "    linterp(t, f_cps, t_grid)\n",
    "\n",
    "Linear interpolation on a grid. Linearly interpolate a discrete function on a\n",
    "time grid. In other words, get the function value assuming that it is a\n",
    "continuous and piecewise affine function.\n",
    "\n",
    "# Arguments\n",
    "- `t`: the time at which to get the function value.\n",
    "- `f_cps`: the control points of the function, stored as columns of a matrix.\n",
    "- `t_grid`: the discrete time nodes.\n",
    "\n",
    "# Returns\n",
    "- `f_t`: the function value at time t.\n",
    "\"\"\"\n",
    "function linterp(\n",
    "    t::RealValue,\n",
    "    f_cps::RealArray,\n",
    "    t_grid::RealVector,\n",
    ")::Union{RealValue,RealArray}\n",
    "    t = max(t_grid[1], min(t_grid[end], t)) # Saturate to time grid\n",
    "    k = get_interval(t, t_grid)\n",
    "    c = (t_grid[k+1] - t) / (t_grid[k+1] - t_grid[k])\n",
    "    dimfill = fill(:, ndims(f_cps) - 1)\n",
    "    f_t = c * f_cps[dimfill..., k] + (1 - c) * f_cps[dimfill..., k+1]\n",
    "    return f_t\n",
    "end;"
   ]
  },
  {
   "cell_type": "code",
   "execution_count": 21,
   "id": "03f97fc8-9487-42cc-a79e-d0d6c96b7db6",
   "metadata": {},
   "outputs": [],
   "source": [
    "# Terminal state\n",
    "r1_ = zeros(3) # [m]\n",
    "v1_ = zeros(3) # [m / s]\n",
    "θ1_ = deg2rad.([θ0_[1], 90, 0]) # [rad] 121 Euler sequence\n",
    "ω1_ = zeros(3) # [rad / s]\n",
    "\n",
    "x_f = [r1_; v1_; θ1_; ω1_];\n",
    "\n",
    "# Control guess\n",
    "T_guess = 0.8*T_max_ # [N] Initial thrust guess\n",
    "input_guess(N) = straightline_interpolate([T_guess; 0; 0; T_guess; 0], [T_guess; 0; 0; T_guess; 0], N);\n",
    "\n",
    "# Parameter guess\n",
    "v_0, v_f = x_0[4:6], x_f[4:6]\n",
    "tf_guess = norm(v_f-v_0 + sqrt.(2 * [0; 0; g_] * x_0[3]), 2)/(T_guess/m_-g_)\n",
    "\n",
    "# State guess\n",
    "state_guess(N) = begin\n",
    "    x_guess = straightline_interpolate(x_0, x_f, N)\n",
    "    x_guess[10, :] .= 0\n",
    "    x_guess[11, :] .= (x_f[8]-x_0[8])/tf_guess\n",
    "    x_guess[12, :] .= -(x_f[7]-x_0[7])/tf_guess\n",
    "    return x_guess\n",
    "end;"
   ]
  },
  {
   "cell_type": "markdown",
   "id": "225b0636-8aaa-431c-bf3f-152063cbf745",
   "metadata": {},
   "source": [
    "## SCP Toolbox Code and Solution"
   ]
  },
  {
   "cell_type": "markdown",
   "id": "81f5e275-9a36-4d1c-9129-65321ee4d716",
   "metadata": {},
   "source": [
    "### Set Up Problem"
   ]
  },
  {
   "cell_type": "code",
   "execution_count": 22,
   "id": "58fc45c7-c714-4efc-b7de-5661e1e41eed",
   "metadata": {},
   "outputs": [],
   "source": [
    "pbm = TrajectoryProblem();\n",
    "algo = :ptr;\n",
    "\n",
    "# Dimensions\n",
    "n = length(x)\n",
    "md = length(u)\n",
    "d = length(p);\n",
    "problem_set_dims!(pbm, n, md, d)\n",
    "\n",
    "# Dynamics\n",
    "build_func(func) = begin\n",
    "    vfunc = eval(build_function(func, [x; u; p; c])[1]) \n",
    "    bfunc(t, k, x, u, p, pbm) = vfunc([x; u; p; c_])\n",
    "    return bfunc\n",
    "end;\n",
    "\n",
    "problem_set_dynamics!(pbm, build_func(f_n), build_func(A_l), build_func(B_l), build_func(F_l))\n",
    "\n",
    "# Boundary Conditions\n",
    "build_bc(func) = begin\n",
    "    vfunc = eval(build_function(func, [x; x0])[1]) \n",
    "    bfunc(x, p, pbm) = vfunc([x; x_0])\n",
    "    return bfunc\n",
    "end;\n",
    "\n",
    "problem_set_bc!(pbm, :ic, build_bc(g_ic), build_bc(H_0))\n",
    "problem_set_bc!(pbm, :tc, build_bc(g_tc), build_bc(H_f));\n",
    "\n",
    "# Constraints\n",
    "problem_set_X!(pbm, (t, k, x, p, pbm, clp) -> begin\n",
    "        #@add_constraint(clp, NONPOS, p -> tf_min - p[1])\n",
    "        #glideslope(x, clp)\n",
    "        state_constraints(t, k, x, p, pbm, clp)\n",
    "    end)\n",
    "\n",
    "problem_set_U!(pbm, (t, k, u, p, pbm, clp) -> begin\n",
    "        T, σ, γ = u[1:3], u[4], u[5]\n",
    "\n",
    "        control_constraints(t, k, u, p, pbm, clp)\n",
    "    end)\n",
    "\n",
    "# Cost Function\n",
    "#build_terminal(func) = begin\n",
    "#    vfunc = eval(build_function(func, [x; p])[1]) \n",
    "#    bfunc(x, p, pbm) = vfunc([x; p])[1]\n",
    "#    return bfunc\n",
    "#end;\n",
    "#\n",
    "#build_running(func) = begin\n",
    "#    vfunc = eval(build_function(func, [x; u; p; c])[1]) \n",
    "#    bfunc(t, k, x, u, p, pbm) = vfunc([x; u; p; c_])[1]\n",
    "#    return bfunc\n",
    "#end\n",
    "#\n",
    "#problem_set_terminal_cost!(pbm, build_terminal([ϕ]))\n",
    "#problem_set_running_cost!(pbm, algo, build_running([Γ]))\n",
    "\n",
    "problem_set_terminal_cost!(pbm, (x, p, pbm) -> ϕ(x, p))\n",
    "problem_set_running_cost!(pbm, algo, (t, k, x, u, p, pbm) -> Γ(x, u, p))\n",
    "\n",
    "# Initial Guess\n",
    "problem_set_guess!(pbm, (N, pbm) -> begin\n",
    "    x = state_guess(N)\n",
    "    u = input_guess(N)\n",
    "    p = [tf_guess]\n",
    "    return x, u, p\n",
    "end)\n",
    "\n",
    "# Variable Scaling\n",
    "rx_range_box = max(x_0[1], 1.0)\n",
    "ry_range_box = max(x_0[2], 1.0)\n",
    "rz_range_box = max(x_0[3], 1.0)\n",
    "vx_range_box = max(abs(x_0[4]), 1.0)\n",
    "vy_range_box = max(abs(x_0[5]), 1.0)\n",
    "vz_range_box = min(x_0[6], -1.0)\n",
    "θ_range_box = deg2rad(20.0)\n",
    "ω_range_box = max(abs(x_0[10]), deg2rad(5.0))\n",
    "\n",
    "thrust_range = (0, T_max_)\n",
    "\n",
    "problem_advise_scale!(pbm, :state, 1, (-rx_range_box, rx_range_box))\n",
    "problem_advise_scale!(pbm, :state, 2, (-ry_range_box, ry_range_box))\n",
    "problem_advise_scale!(pbm, :state, 3, (0, rz_range_box))\n",
    "problem_advise_scale!(pbm, :state, 4, (-vx_range_box, vx_range_box))\n",
    "problem_advise_scale!(pbm, :state, 5, (-vy_range_box, vy_range_box))\n",
    "problem_advise_scale!(pbm, :state, 6, (vz_range_box, 0.0))\n",
    "problem_advise_scale!(pbm, :state, 7, (-θ_range_box, θ_range_box))\n",
    "problem_advise_scale!(pbm, :state, 8, (-θ_range_box, θ_range_box))\n",
    "problem_advise_scale!(pbm, :state, 9, (-θ_range_box, θ_range_box))\n",
    "problem_advise_scale!(pbm, :state, 10, (-ω_range_box, ω_range_box))\n",
    "problem_advise_scale!(pbm, :state, 11, (-ω_range_box, ω_range_box))\n",
    "problem_advise_scale!(pbm, :state, 12, (-ω_range_box, ω_range_box))\n",
    "\n",
    "problem_advise_scale!(pbm, :input, 1, thrust_range)\n",
    "problem_advise_scale!(pbm, :input, 2, thrust_range)\n",
    "problem_advise_scale!(pbm, :input, 3, thrust_range)\n",
    "problem_advise_scale!(pbm, :input, 4, thrust_range)\n",
    "problem_advise_scale!(pbm, :input, 5, (-γ_max_, γ_max_))\n",
    "\n",
    "problem_advise_scale!(pbm, :parameter, 1, (0.5*tf_guess, tf_guess));"
   ]
  },
  {
   "cell_type": "markdown",
   "id": "b59b4aea-0455-4ba1-be08-0e387217ad83",
   "metadata": {},
   "source": [
    "### Solve Optimization Problem"
   ]
  },
  {
   "cell_type": "markdown",
   "id": "370faf13-fb89-4ba3-bd36-310230360c2c",
   "metadata": {},
   "source": [
    "Define solver parameters and print the solution state at each iteration"
   ]
  },
  {
   "cell_type": "code",
   "execution_count": 23,
   "id": "19d060f8-04ae-4835-9d3d-925cf76c02a3",
   "metadata": {},
   "outputs": [],
   "source": [
    "## Parameters\n",
    "#N, Nsub = 15, 15\n",
    "#iter_max = 30\n",
    "#disc_method = FOH\n",
    "#wvc, wtr = 1e1, 1e-1\n",
    "#feas_tol = 5e-3\n",
    "#ε_abs, ε_rel = 1e-5, 1e-4\n",
    "#q_tr = Inf\n",
    "#q_exit = Inf\n",
    "#solver, solver_options = ECOS, Dict(\"verbose\"=>0)      \n",
    "#\n",
    "#pars = PTR.Parameters(N, Nsub, iter_max, disc_method, wvc, wtr, ε_abs,\n",
    "#                      ε_rel, feas_tol, q_tr, q_exit, solver, solver_options);\n",
    "#\n",
    "#ptr_pbm = PTR.create(pars, pbm)\n",
    "#sol, history = PTR.solve(ptr_pbm);"
   ]
  },
  {
   "cell_type": "markdown",
   "id": "42ed9f9c-2545-451c-839f-dc0eaa1fa534",
   "metadata": {},
   "source": [
    "### Plot Solution"
   ]
  },
  {
   "cell_type": "code",
   "execution_count": 24,
   "id": "8fb0cb4f-2c36-4045-8572-1dc86ffc48a6",
   "metadata": {},
   "outputs": [],
   "source": [
    "#_sol = history.subproblems[end].sol\n",
    "#\n",
    "#tf = _sol.p[1]\n",
    "#xd = _sol.xd\n",
    "#ud = _sol.ud\n",
    "#vd = _sol.vd\n",
    "#p_sol = _sol.p\n",
    "#td = sol.td*tf\n",
    "#\n",
    "#Nc = 100\n",
    "#tc = LinRange(0, tf, Nc)\n",
    "#xc = hcat([sample(sol.xc, t) for t in LinRange(0, 1, Nc)]...)\n",
    "#uc = hcat([sample(sol.uc, t) for t in LinRange(0, 1, Nc)]...)\n",
    "#\n",
    "#tf_values = [spbm.sol.p[1] for spbm in history.subproblems]\n",
    "#pushfirst!(tf_values, history.subproblems[1].ref.p[1]);"
   ]
  },
  {
   "cell_type": "code",
   "execution_count": 25,
   "id": "69800a66-3b07-44c3-8055-25e4e93e025f",
   "metadata": {
    "user_expressions": [
     {
      "expression": "round(tf_guess, digits = 3)",
      "result": {
       "data": {
        "text/plain": "23.973"
       },
       "metadata": {},
       "status": "ok"
      }
     },
     {
      "expression": "round(p_sol[1], digits = 3)",
      "result": {
       "data": {
        "text/plain": "26.042"
       },
       "metadata": {},
       "status": "ok"
      }
     }
    ]
   },
   "outputs": [],
   "source": [
    "#The final time guess and final time of the solution are\n",
    "#$$\n",
    "#t_{fguess} = `{julia} round(tf_guess, digits = 3)`s,\n",
    "#t_{f} = `{julia} round(p_sol[1], digits = 3)`s\n",
    "#$$"
   ]
  },
  {
   "cell_type": "code",
   "execution_count": 26,
   "id": "d58fb324-1d2c-4507-a395-fdc699be3c36",
   "metadata": {},
   "outputs": [],
   "source": [
    "## define a function that returns a Plots.Shape\n",
    "#rectangle(w, h, x, y, bx) = begin \n",
    "#    P = [-w/2 w/2 w/2 -w/2; 0 0 h h]\n",
    "#    by = [0 1; -1 0] * bx\n",
    "#    P_prime = hcat([[0 -1; 1 0] * [bx by] * P[:, i] for i in range(1, 4)]...)\n",
    "#    P_prime = P_prime .+ [x; y]\n",
    "#    \n",
    "#    return Shape(P_prime[1, :], P_prime[2, :])\n",
    "#end\n",
    "#\n",
    "#rectangle_norot(w, h, x, y) = begin \n",
    "#    P = [-w/2 w/2 w/2 -w/2; 0 0 h h]\n",
    "#    P = P .+ [x; y]\n",
    "#    \n",
    "#    return Shape(P[1, :], P[2, :])\n",
    "#end\n",
    "#\n",
    "#Xd = xd[1, :]' .* ones(length(xd[2, :]))\n",
    "#Yd = ones(length(xd[1, :]))' .* xd[2, :]\n",
    "#Zd = sqrt.((Xd .^ 2 + Yd .^ 2)) * tan(γ_gs_);\n",
    "#\n",
    "#θ_ = xc[7:9, :]\n",
    "#b_x = hcat([substitute(C_be, Dict([θ[1] => θ_[1, i], θ[2] => θ_[2, i], θ[3] => θ_[3, i]]))' * [1, 0, 0] for i in range(1, length(tc))]...)\n",
    "#b_y = hcat([substitute(C_be, Dict([θ[1] => θ_[1, i], θ[2] => θ_[2, i], θ[3] => θ_[3, i]]))' * [0, 1, 0] for i in range(1, length(tc))]...)\n",
    "#b_z = hcat([substitute(C_be, Dict([θ[1] => θ_[1, i], θ[2] => θ_[2, i], θ[3] => θ_[3, i]]))' * [0, 0, 1] for i in range(1, length(tc))]...)\n",
    "#\n",
    "#T_ = uc[1:3, :]\n",
    "#T_e = hcat([substitute(C_be, Dict([θ[1] => θ_[1, i], θ[2] => θ_[2, i], θ[3] => θ_[3, i]]))' * T_[:, i] for i in range(1, length(tc))]...)\n",
    "#\n",
    "#gimbal_r = [acos(dot([1; 0; 0], T_[:, i]) / norm(T_[:, i])) * 180 / pi for i in range(1, length(tc))]\n",
    "#gimbal_θ = (atan.(uc[3,:], uc[2, :])) .+ pi \n",
    "#\n",
    "#Plots.gr()\n",
    "#\n",
    "#velocity = [norm(xc[4:6, i]) for i in range(1, length(tc))]\n",
    "#\n",
    "#a = Animation()\n",
    "#\n",
    "#z_max = max(xc[3, :]...)\n",
    "#x_lim = (min(min(xc[1, :]...), -z_max / 10), max(max(xc[1, :]...), z_max / 10))\n",
    "#y_lim = (min(min(xc[2, :]...), -z_max / 10), max(max(xc[2, :]...), z_max / 10))\n",
    "#\n",
    "#for i in 1:length(tc)\n",
    "#\n",
    "#    l = @layout [a; b c; d]\n",
    "#\n",
    "#    xz_angle = asin(norm(cross([b_x[1, i], 0, b_x[3, i]], [1,0,0])) / norm([b_x[1, i], 0, b_x[3, i]]))\n",
    "#    p1 = Plots.plot(xc[1, :], xc[3, :], lc=:viridis, line_z=velocity, label = \"\", colorbar_title = \"Speed\")\n",
    "#    Plots.quiver!([xc[1, i]], [xc[3, i]], quiver = ([b_x[1, i]], [b_x[3, i]]) .* z_max ./ 10, aspect_ratio=:equal, color = :blue, label = \"b_x\")\n",
    "#    Plots.quiver!([xc[1, i]], [xc[3, i]], quiver = ([b_y[1, i]], [b_y[3, i]]) .* z_max ./ 10, aspect_ratio=:equal, color = :green, label = \"b_y\")\n",
    "#    Plots.quiver!([xc[1, i]], [xc[3, i]], quiver = ([b_z[1, i]], [b_z[3, i]]) .* z_max ./ 10, aspect_ratio=:equal, color = :orange, label = \"b_z\")\n",
    "#    Plots.plot!([xc[1, i], xc[1, i] - T_e[1, i] / T_max_ * z_max ./ 10], [xc[3, i], xc[3, i] - T_e[3, i] / T_max_ * z_max ./ 10], color = :red, label = \"Thrust\", axpect_ratio=:equal, ylim=(0, z_max), xlim=x_lim)\n",
    "#    Plots.plot!(rectangle(z_max / 50,z_max / 20,xc[1, i],xc[3, i], [b_x[1, i]; b_x[3, i]]), label = \"\", opacity=.5, color = :gray)\n",
    "#    Plots.plot!(LinRange(x_lim[1], x_lim[2], 100), abs.(LinRange(x_lim[1], x_lim[2], 100)) * tan(γ_gs_), linestyle = :dash, label = \"\", color = :gray)\n",
    "#    Plots.title!(\"XZ Projection\")\n",
    "#    Plots.xlabel!(\"X [m]\")\n",
    "#    Plots.ylabel!(\"Z [m]\")\n",
    "#\n",
    "#    yz_angle = asin(norm(cross([0, b_x[2, i], b_x[3, i]], [1,0,0])) / norm([0, b_x[2, i], b_x[3, i]]))\n",
    "#    p2 = Plots.plot(xc[2, :], xc[3, :], lc=:viridis, line_z=velocity, label = \"\", colorbar_title = \"Speed\")\n",
    "#    Plots.quiver!([xc[2, i]], [xc[3, i]], quiver = ([b_x[2, i]], [b_x[3, i]]) .* z_max ./ 10, aspect_ratio=:equal, color = :blue, label = \"b_x\")\n",
    "#    Plots.quiver!([xc[2, i]], [xc[3, i]], quiver = ([b_y[2, i]], [b_y[3, i]]) .* z_max ./ 10, aspect_ratio=:equal, color = :green, label = \"b_y\")\n",
    "#    Plots.quiver!([xc[2, i]], [xc[3, i]], quiver = ([b_z[2, i]], [b_z[3, i]]) .* z_max ./ 10, aspect_ratio=:equal, color = :orange, label = \"b_z\")\n",
    "#    Plots.plot!([xc[2, i], xc[2, i] - T_e[2, i] / T_max_ * z_max ./ 10], [xc[3, i], xc[3, i] - T_e[3, i] / T_max_ * z_max ./ 10], color = :red, label = \"Thrust\", axpect_ratio=:equal, ylim=(0, z_max), xlim=y_lim)\n",
    "#    Plots.plot!(rectangle(z_max / 50,z_max / 20,xc[2, i],xc[3, i], [b_x[2, i]; b_x[3, i]]), label = \"\", opacity=.5, color = :gray)\n",
    "#    Plots.plot!(LinRange(y_lim[1], y_lim[2], 100), abs.(LinRange(y_lim[1], y_lim[2], 100)) * tan(γ_gs_), linestyle = :dash, label = \"\", color = :gray)\n",
    "#    Plots.title!(\"YZ Projection\")\n",
    "#    Plots.xlabel!(\"Y [m]\")\n",
    "#    Plots.ylabel!(\"Z [m]\")\n",
    "#\n",
    "#    p3 = Plots.plot(xc[1, :], xc[2, :], xc[3, :], lc=:viridis, line_z=velocity, label = \"\", colorbar_title = \"Speed\")\n",
    "#    Plots.quiver!([xc[1, i]], [xc[2, i]], [xc[3, i]], quiver = ([b_x[1, i]], [b_x[2, i]], [b_x[3, i]]) .* z_max ./ 10, aspect_ratio=:equal, scene_aspectmode=\"cube\", color = :blue, label = \"b_x\")\n",
    "#    Plots.quiver!([xc[1, i]], [xc[2, i]], [xc[3, i]], quiver = ([b_y[1, i]], [b_y[2, i]], [b_y[3, i]]) .* z_max ./ 10, aspect_ratio=:equal, scene_aspectmode=\"cube\", color = :green, label = \"b_y\")\n",
    "#    Plots.quiver!([xc[1, i]], [xc[2, i]], [xc[3, i]], quiver = ([b_z[1, i]], [b_z[2, i]], [b_z[3, i]]) .* z_max ./ 10, aspect_ratio=:equal, scene_aspectmode=\"cube\", color = :orange, label = \"b_z\")\n",
    "#    Plots.plot!([xc[1, i], xc[1, i] - T_e[1, i] / T_max_ * z_max ./ 10], [xc[2, i], xc[2, i] - T_e[2, i] / T_max_ * z_max ./ 10], [xc[3, i], xc[3, i] - T_e[3, i] / T_max_ * z_max ./ 10], color = :red, axpect_ratio=:equal, label = \"\", zlim=(0, z_max), ylim=(min(x_lim[1], y_lim[1]), max(x_lim[2], y_lim[2])), xlim=(min(x_lim[1], y_lim[1]), max(x_lim[2], y_lim[2])))\n",
    "#    Plots.title!(\"Trajectory\")\n",
    "#    Plots.xlabel!(\"X [m]\")\n",
    "#    Plots.ylabel!(\"Y [m]\")\n",
    "#    Plots.zlabel!(\"Z [m]\")\n",
    "#\n",
    "#    p5 = Plots.plot(gimbal_θ, gimbal_r, proj = :polar, lc = :viridis, line_z = uc[4, :], label = \"\", colorbar_title = \"Thrust Magnitude\")\n",
    "#    Plots.plot!([gimbal_θ[i]], [gimbal_r[i]], proj = :polar, m = 3, label = \"Thrust Direction\")\n",
    "#    th = uc[5, i] * 5\n",
    "#    Plots.plot!(rectangle_norot(abs(sin(th)),0.4,sin(th)/2,0.5), label = \"Vanes\", opacity=.5, color = :gray)\n",
    "#    Plots.plot!(rectangle_norot(abs(sin(-th)),-0.4,sin(-th)/2,-0.5), label = \"\", opacity=.5, color = :gray)\n",
    "#    Plots.plot!(rectangle_norot(0.4,sin(-th),0.7,0), label = \"\", opacity=.5, color = :gray)\n",
    "#    Plots.plot!(rectangle_norot(0.4,sin(th),-0.7,0), label = \"\", opacity=.5, color = :gray)\n",
    "#    Plots.title!(\"Control - Looking From Above\")\n",
    "#\n",
    "#    \n",
    "#    plt = Plots.plot(p3, p1, p2, p5, layout = l, widths = (1, 4/8, 4/8, 1), plot_title=\"6DoF Astra Landing with SCP\", size = (600, 900), aspect_ratio = :equal, margin = 1mm)\n",
    "#\n",
    "#    \n",
    "#    frame(a, plt)\n",
    "#end\n",
    "#\t\n",
    "#gif(a, fps = 15)#\"Trajectory_and_Orientation.gif\", fps = 15)"
   ]
  },
  {
   "cell_type": "markdown",
   "id": "3cfb2c60-5547-41a3-9f67-45daf0679173",
   "metadata": {},
   "source": [
    "Ignore the error from the next plot"
   ]
  },
  {
   "cell_type": "code",
   "execution_count": 27,
   "id": "7ff7e619-66a1-45f9-bfd0-746c7741e703",
   "metadata": {},
   "outputs": [],
   "source": [
    "#Xd = LinRange(x_lim[1], x_lim[2], 100)' .* ones(100)\n",
    "#Yd = ones(100)' .* LinRange(y_lim[1], y_lim[2], 100)\n",
    "#Zd = sqrt.((Xd .^ 2 + Yd .^ 2)) * tan(γ_gs_);\n",
    "#\n",
    "#T_ = uc[1:3, :]\n",
    "#θ_ = xc[7:9, :]\n",
    "##T_e = hcat([substitute(C_be, Dict([θ[1] => θ_[1, i], θ[2] => θ_[2, i], θ[3] => θ_[3, i]]))' * T_[:, i] for i in range(1, length(tc))]...)\n",
    "#\n",
    "#Plots.plotlyjs()   # set the backend to Plotly\n",
    "#\n",
    "#Plots.quiver(xc[1, :], xc[2, :], xc[3, :], quiver = (b_x[1, :], b_x[2, :], b_x[3, :]) .* z_max ./ 40, aspect_ratio=:equal, size = (500, 800), label = \"Body X\")\n",
    "#Plots.quiver!(xc[1, :], xc[2, :], xc[3, :], quiver = (b_y[1, :], b_y[2, :], b_y[3, :]) .* z_max ./ 40, aspect_ratio=:equal, label = \"Body Y\")\n",
    "#Plots.quiver!(xc[1, :], xc[2, :], xc[3, :], quiver = (b_z[1, :], b_z[2, :], b_z[3, :]) .* z_max ./ 40, aspect_ratio=:equal, label = \"Body Z\")\n",
    "#Plots.quiver!(xc[1, :], xc[2, :], xc[3, :], quiver = (-T_e[1, :], -T_e[2, :], -T_e[3, :]) ./ T_max_ .* z_max ./ 20, axpect_ratio=:equal, scene_aspectmode=\"cube\", label = \"Thrust\")\n",
    "#Plots.surface!(Xd, Yd, Zd, aspect_ratio=:equal, colorbar = false) # Glideslope\n",
    "#Plots.title!(\"Interactive Trajectory\")\n",
    "#Plots.xlabel!(\"X\")\n",
    "#Plots.ylabel!(\"Y\")\n",
    "#Plots.zlabel!(\"Z\")"
   ]
  },
  {
   "cell_type": "code",
   "execution_count": 28,
   "id": "915b32bc-18bd-4bee-b544-1f9a12ed17ad",
   "metadata": {},
   "outputs": [],
   "source": [
    "#Plots.gr()\n",
    "#\n",
    "#l = @layout [a b; c d]\n",
    "#\n",
    "#plt_r = Plots.plot(td, xd[1, :], label = \"Disc X\")\n",
    "#Plots.plot!(td, xd[2, :], label = \"Disc Y\")\n",
    "#Plots.plot!(td, xd[3, :], label = \"Disc Z\")\n",
    "#Plots.plot!(tc, xc[1, :], label = \"Cont X\")\n",
    "#Plots.plot!(tc, xc[2, :], label = \"Cont Y\")\n",
    "#Plots.plot!(tc, xc[3, :], label = \"Cont Z\")\n",
    "#Plots.title!(\"Position\")\n",
    "#Plots.xlabel!(\"Time [s]\")\n",
    "#Plots.ylabel!(\"Position [m]\")\n",
    "#\n",
    "#plt_v = Plots.plot(td, xd[4, :], label = \"Disc Vx\")\n",
    "#Plots.plot!(td, xd[5, :], label = \"Disc Vy\")\n",
    "#Plots.plot!(td, xd[6, :], label = \"Disc Vz\")\n",
    "#Plots.plot!(tc, xc[4, :], label = \"Cont Vx\")\n",
    "#Plots.plot!(tc, xc[5, :], label = \"Cont Vy\")\n",
    "#Plots.plot!(tc, xc[6, :], label = \"Cont Vz\")\n",
    "#Plots.title!(\"Velocity\")\n",
    "#Plots.xlabel!(\"Time [s]\")\n",
    "#Plots.ylabel!(\"Velocity [m/s]\")\n",
    "#\n",
    "#plt_θ = Plots.plot(td, xd[7, :] * 180 / pi, label = \"Disc θx\")\n",
    "#Plots.plot!(td, xd[8, :] * 180 / pi, label = \"Disc θy\")\n",
    "#Plots.plot!(td, xd[9, :] * 180 / pi, label = \"Disc θz\")\n",
    "#Plots.plot!(tc, xc[7, :] * 180 / pi, label = \"Disc θx\")\n",
    "#Plots.plot!(tc, xc[8, :] * 180 / pi, label = \"Disc θy\")\n",
    "#Plots.plot!(tc, xc[9, :] * 180 / pi, label = \"Disc θz\")\n",
    "#Plots.title!(\"Orientation\")\n",
    "#Plots.xlabel!(\"Time [s]\")\n",
    "#Plots.ylabel!(\"Euler Angle [deg]\")\n",
    "#\n",
    "#plt_ω = Plots.plot(td, xd[10, :] * 180 / pi, label = \"Disc ωx\")\n",
    "#Plots.plot!(td, xd[11, :] * 180 / pi, label = \"Disc ωy\")\n",
    "#Plots.plot!(td, xd[12, :] * 180 / pi, label = \"Disc ωz\")\n",
    "#Plots.plot!(tc, xc[10, :] * 180 / pi, label = \"Cont ωx\")\n",
    "#Plots.plot!(tc, xc[11, :] * 180 / pi, label = \"Cont ωy\")\n",
    "#Plots.plot!(tc, xc[12, :] * 180 / pi, label = \"Cont ωz\")\n",
    "#Plots.title!(\"Angular Velocity\")\n",
    "#Plots.xlabel!(\"Time [s]\")\n",
    "#Plots.ylabel!(\"Angular Velocity [deg/s]\")\n",
    "#\n",
    "#plt = Plots.plot(plt_r, plt_v, plt_θ, plt_ω, layout = l, widths = (1/2, 1/2, 1/2, 1/2), plot_title=\"State Plots - Discrete and Continuous\", size = (600, 600), margin = 1mm)"
   ]
  },
  {
   "cell_type": "code",
   "execution_count": 29,
   "id": "c99668de-20ff-4589-ae12-cdaad9d5dd7e",
   "metadata": {},
   "outputs": [],
   "source": [
    "#Plots.gr()\n",
    "#\n",
    "#l = @layout [a b; c d]\n",
    "#\n",
    "#plt_tT = Plots.plot(tc, uc[2, :], label = \"Ty\")\n",
    "#Plots.plot!(tc, uc[3, :], label = \"Tz\")\n",
    "#Plots.title!(\"Transverse Thrust\")\n",
    "#Plots.xlabel!(\"Time [s]\")\n",
    "#Plots.ylabel!(\"Thrust [N]\")\n",
    "#\n",
    "#plt_σ = Plots.plot(tc, sqrt.(uc[1, :].^2 + uc[2, :].^2 + uc[3, :].^2), label = \"norm(T)\")\n",
    "#Plots.plot!(tc, uc[4, :], label = \"σ\")\n",
    "#Plots.title!(\"Thrust Magnitude\")\n",
    "#Plots.xlabel!(\"Time [s]\")\n",
    "#Plots.ylabel!(\"Thrust Magnitude [N]\")\n",
    "#\n",
    "#T_ = uc[1:3, :]\n",
    "#gimbal = [acos(dot([1; 0; 0], T_[:, i]) / norm(T_[:, i])) * 180 / pi for i in range(1, length(tc))]\n",
    "#plt_δ = Plots.plot(tc, gimbal, label = \"\")\n",
    "#Plots.title!(\"Thrust Gimbaling\")\n",
    "#Plots.xlabel!(\"Time [s]\")\n",
    "#Plots.ylabel!(\"Thrust Gimbaling [deg]\")\n",
    "#\n",
    "#plt_γ = Plots.plot(tc, uc[5, :]* 180 / pi, label = \"\")\n",
    "#Plots.title!(\"Vane Angle\")\n",
    "#Plots.xlabel!(\"Time [s]\")\n",
    "#Plots.ylabel!(\"Vane Angle [deg]\")\n",
    "#\n",
    "#plt = Plots.plot(plt_tT, plt_σ, plt_δ, plt_γ, layout = l, widths = (1/2, 1/2, 1/2, 1/2), plot_title=\"Control Plots\", size = (600, 600), margin = 1mm)"
   ]
  },
  {
   "cell_type": "code",
   "execution_count": 30,
   "id": "4652ce27-829e-4806-8b86-475e081b9ce7",
   "metadata": {},
   "outputs": [],
   "source": []
  }
 ],
 "metadata": {
  "kernelspec": {
   "display_name": "Julia 1.10.3",
   "language": "julia",
   "name": "julia-1.10"
  },
  "language_info": {
   "file_extension": ".jl",
   "mimetype": "application/julia",
   "name": "julia",
   "version": "1.10.3"
  }
 },
 "nbformat": 4,
 "nbformat_minor": 5
}
